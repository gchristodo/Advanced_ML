{
 "cells": [
  {
   "cell_type": "markdown",
   "metadata": {},
   "source": [
    "# Class imbalance"
   ]
  },
  {
   "cell_type": "markdown",
   "metadata": {},
   "source": [
    "## 1. Preprocessing"
   ]
  },
  {
   "cell_type": "code",
   "execution_count": 1,
   "metadata": {},
   "outputs": [
    {
     "name": "stdout",
     "output_type": "stream",
     "text": [
      "python version: 3.7.9 (default, Aug 31 2020, 17:10:11) [MSC v.1916 64 bit (AMD64)]\n",
      "sklearn version: 0.24.1\n",
      "pandas version: 1.2.3\n",
      "matplotlib version 3.3.2\n",
      "numpy version 1.19.2\n",
      "imblearn version 0.8.0\n"
     ]
    }
   ],
   "source": [
    "from sys import version as python_version\n",
    "from sklearn import __version__ as sklearn_version\n",
    "from pandas import __version__ as pandas_version\n",
    "from matplotlib import __version__ as matplotlib_version\n",
    "from numpy import __version__ as numpy_version\n",
    "from imblearn import __version__ as imblearn_version\n",
    "\n",
    "print('python version:', python_version)\n",
    "print('sklearn version:', sklearn_version)\n",
    "print('pandas version:', pandas_version)\n",
    "print('matplotlib version', matplotlib_version)\n",
    "print('numpy version', numpy_version)\n",
    "print('imblearn version', imblearn_version)"
   ]
  },
  {
   "cell_type": "code",
   "execution_count": 2,
   "metadata": {},
   "outputs": [],
   "source": [
    "import pandas as pd\n",
    "\n",
    "df = pd.read_csv('creditcard.csv')"
   ]
  },
  {
   "cell_type": "code",
   "execution_count": 3,
   "metadata": {},
   "outputs": [
    {
     "data": {
      "text/html": [
       "<div>\n",
       "<style scoped>\n",
       "    .dataframe tbody tr th:only-of-type {\n",
       "        vertical-align: middle;\n",
       "    }\n",
       "\n",
       "    .dataframe tbody tr th {\n",
       "        vertical-align: top;\n",
       "    }\n",
       "\n",
       "    .dataframe thead th {\n",
       "        text-align: right;\n",
       "    }\n",
       "</style>\n",
       "<table border=\"1\" class=\"dataframe\">\n",
       "  <thead>\n",
       "    <tr style=\"text-align: right;\">\n",
       "      <th></th>\n",
       "      <th>Time</th>\n",
       "      <th>V1</th>\n",
       "      <th>V2</th>\n",
       "      <th>V3</th>\n",
       "      <th>V4</th>\n",
       "      <th>V5</th>\n",
       "      <th>V6</th>\n",
       "      <th>V7</th>\n",
       "      <th>V8</th>\n",
       "      <th>V9</th>\n",
       "      <th>...</th>\n",
       "      <th>V21</th>\n",
       "      <th>V22</th>\n",
       "      <th>V23</th>\n",
       "      <th>V24</th>\n",
       "      <th>V25</th>\n",
       "      <th>V26</th>\n",
       "      <th>V27</th>\n",
       "      <th>V28</th>\n",
       "      <th>Amount</th>\n",
       "      <th>Class</th>\n",
       "    </tr>\n",
       "  </thead>\n",
       "  <tbody>\n",
       "    <tr>\n",
       "      <th>0</th>\n",
       "      <td>0.0</td>\n",
       "      <td>-1.359807</td>\n",
       "      <td>-0.072781</td>\n",
       "      <td>2.536347</td>\n",
       "      <td>1.378155</td>\n",
       "      <td>-0.338321</td>\n",
       "      <td>0.462388</td>\n",
       "      <td>0.239599</td>\n",
       "      <td>0.098698</td>\n",
       "      <td>0.363787</td>\n",
       "      <td>...</td>\n",
       "      <td>-0.018307</td>\n",
       "      <td>0.277838</td>\n",
       "      <td>-0.110474</td>\n",
       "      <td>0.066928</td>\n",
       "      <td>0.128539</td>\n",
       "      <td>-0.189115</td>\n",
       "      <td>0.133558</td>\n",
       "      <td>-0.021053</td>\n",
       "      <td>149.62</td>\n",
       "      <td>0</td>\n",
       "    </tr>\n",
       "    <tr>\n",
       "      <th>1</th>\n",
       "      <td>0.0</td>\n",
       "      <td>1.191857</td>\n",
       "      <td>0.266151</td>\n",
       "      <td>0.166480</td>\n",
       "      <td>0.448154</td>\n",
       "      <td>0.060018</td>\n",
       "      <td>-0.082361</td>\n",
       "      <td>-0.078803</td>\n",
       "      <td>0.085102</td>\n",
       "      <td>-0.255425</td>\n",
       "      <td>...</td>\n",
       "      <td>-0.225775</td>\n",
       "      <td>-0.638672</td>\n",
       "      <td>0.101288</td>\n",
       "      <td>-0.339846</td>\n",
       "      <td>0.167170</td>\n",
       "      <td>0.125895</td>\n",
       "      <td>-0.008983</td>\n",
       "      <td>0.014724</td>\n",
       "      <td>2.69</td>\n",
       "      <td>0</td>\n",
       "    </tr>\n",
       "    <tr>\n",
       "      <th>2</th>\n",
       "      <td>1.0</td>\n",
       "      <td>-1.358354</td>\n",
       "      <td>-1.340163</td>\n",
       "      <td>1.773209</td>\n",
       "      <td>0.379780</td>\n",
       "      <td>-0.503198</td>\n",
       "      <td>1.800499</td>\n",
       "      <td>0.791461</td>\n",
       "      <td>0.247676</td>\n",
       "      <td>-1.514654</td>\n",
       "      <td>...</td>\n",
       "      <td>0.247998</td>\n",
       "      <td>0.771679</td>\n",
       "      <td>0.909412</td>\n",
       "      <td>-0.689281</td>\n",
       "      <td>-0.327642</td>\n",
       "      <td>-0.139097</td>\n",
       "      <td>-0.055353</td>\n",
       "      <td>-0.059752</td>\n",
       "      <td>378.66</td>\n",
       "      <td>0</td>\n",
       "    </tr>\n",
       "    <tr>\n",
       "      <th>3</th>\n",
       "      <td>1.0</td>\n",
       "      <td>-0.966272</td>\n",
       "      <td>-0.185226</td>\n",
       "      <td>1.792993</td>\n",
       "      <td>-0.863291</td>\n",
       "      <td>-0.010309</td>\n",
       "      <td>1.247203</td>\n",
       "      <td>0.237609</td>\n",
       "      <td>0.377436</td>\n",
       "      <td>-1.387024</td>\n",
       "      <td>...</td>\n",
       "      <td>-0.108300</td>\n",
       "      <td>0.005274</td>\n",
       "      <td>-0.190321</td>\n",
       "      <td>-1.175575</td>\n",
       "      <td>0.647376</td>\n",
       "      <td>-0.221929</td>\n",
       "      <td>0.062723</td>\n",
       "      <td>0.061458</td>\n",
       "      <td>123.50</td>\n",
       "      <td>0</td>\n",
       "    </tr>\n",
       "    <tr>\n",
       "      <th>4</th>\n",
       "      <td>2.0</td>\n",
       "      <td>-1.158233</td>\n",
       "      <td>0.877737</td>\n",
       "      <td>1.548718</td>\n",
       "      <td>0.403034</td>\n",
       "      <td>-0.407193</td>\n",
       "      <td>0.095921</td>\n",
       "      <td>0.592941</td>\n",
       "      <td>-0.270533</td>\n",
       "      <td>0.817739</td>\n",
       "      <td>...</td>\n",
       "      <td>-0.009431</td>\n",
       "      <td>0.798278</td>\n",
       "      <td>-0.137458</td>\n",
       "      <td>0.141267</td>\n",
       "      <td>-0.206010</td>\n",
       "      <td>0.502292</td>\n",
       "      <td>0.219422</td>\n",
       "      <td>0.215153</td>\n",
       "      <td>69.99</td>\n",
       "      <td>0</td>\n",
       "    </tr>\n",
       "  </tbody>\n",
       "</table>\n",
       "<p>5 rows × 31 columns</p>\n",
       "</div>"
      ],
      "text/plain": [
       "   Time        V1        V2        V3        V4        V5        V6        V7  \\\n",
       "0   0.0 -1.359807 -0.072781  2.536347  1.378155 -0.338321  0.462388  0.239599   \n",
       "1   0.0  1.191857  0.266151  0.166480  0.448154  0.060018 -0.082361 -0.078803   \n",
       "2   1.0 -1.358354 -1.340163  1.773209  0.379780 -0.503198  1.800499  0.791461   \n",
       "3   1.0 -0.966272 -0.185226  1.792993 -0.863291 -0.010309  1.247203  0.237609   \n",
       "4   2.0 -1.158233  0.877737  1.548718  0.403034 -0.407193  0.095921  0.592941   \n",
       "\n",
       "         V8        V9  ...       V21       V22       V23       V24       V25  \\\n",
       "0  0.098698  0.363787  ... -0.018307  0.277838 -0.110474  0.066928  0.128539   \n",
       "1  0.085102 -0.255425  ... -0.225775 -0.638672  0.101288 -0.339846  0.167170   \n",
       "2  0.247676 -1.514654  ...  0.247998  0.771679  0.909412 -0.689281 -0.327642   \n",
       "3  0.377436 -1.387024  ... -0.108300  0.005274 -0.190321 -1.175575  0.647376   \n",
       "4 -0.270533  0.817739  ... -0.009431  0.798278 -0.137458  0.141267 -0.206010   \n",
       "\n",
       "        V26       V27       V28  Amount  Class  \n",
       "0 -0.189115  0.133558 -0.021053  149.62      0  \n",
       "1  0.125895 -0.008983  0.014724    2.69      0  \n",
       "2 -0.139097 -0.055353 -0.059752  378.66      0  \n",
       "3 -0.221929  0.062723  0.061458  123.50      0  \n",
       "4  0.502292  0.219422  0.215153   69.99      0  \n",
       "\n",
       "[5 rows x 31 columns]"
      ]
     },
     "execution_count": 3,
     "metadata": {},
     "output_type": "execute_result"
    }
   ],
   "source": [
    "df.head()"
   ]
  },
  {
   "cell_type": "code",
   "execution_count": 4,
   "metadata": {},
   "outputs": [
    {
     "name": "stdout",
     "output_type": "stream",
     "text": [
      "<class 'pandas.core.frame.DataFrame'>\n",
      "RangeIndex: 284807 entries, 0 to 284806\n",
      "Data columns (total 31 columns):\n",
      " #   Column  Non-Null Count   Dtype  \n",
      "---  ------  --------------   -----  \n",
      " 0   Time    284807 non-null  float64\n",
      " 1   V1      284807 non-null  float64\n",
      " 2   V2      284807 non-null  float64\n",
      " 3   V3      284807 non-null  float64\n",
      " 4   V4      284807 non-null  float64\n",
      " 5   V5      284807 non-null  float64\n",
      " 6   V6      284807 non-null  float64\n",
      " 7   V7      284807 non-null  float64\n",
      " 8   V8      284807 non-null  float64\n",
      " 9   V9      284807 non-null  float64\n",
      " 10  V10     284807 non-null  float64\n",
      " 11  V11     284807 non-null  float64\n",
      " 12  V12     284807 non-null  float64\n",
      " 13  V13     284807 non-null  float64\n",
      " 14  V14     284807 non-null  float64\n",
      " 15  V15     284807 non-null  float64\n",
      " 16  V16     284807 non-null  float64\n",
      " 17  V17     284807 non-null  float64\n",
      " 18  V18     284807 non-null  float64\n",
      " 19  V19     284807 non-null  float64\n",
      " 20  V20     284807 non-null  float64\n",
      " 21  V21     284807 non-null  float64\n",
      " 22  V22     284807 non-null  float64\n",
      " 23  V23     284807 non-null  float64\n",
      " 24  V24     284807 non-null  float64\n",
      " 25  V25     284807 non-null  float64\n",
      " 26  V26     284807 non-null  float64\n",
      " 27  V27     284807 non-null  float64\n",
      " 28  V28     284807 non-null  float64\n",
      " 29  Amount  284807 non-null  float64\n",
      " 30  Class   284807 non-null  int64  \n",
      "dtypes: float64(30), int64(1)\n",
      "memory usage: 67.4 MB\n"
     ]
    }
   ],
   "source": [
    "df.info()"
   ]
  },
  {
   "cell_type": "code",
   "execution_count": 5,
   "metadata": {},
   "outputs": [
    {
     "data": {
      "text/html": [
       "<div>\n",
       "<style scoped>\n",
       "    .dataframe tbody tr th:only-of-type {\n",
       "        vertical-align: middle;\n",
       "    }\n",
       "\n",
       "    .dataframe tbody tr th {\n",
       "        vertical-align: top;\n",
       "    }\n",
       "\n",
       "    .dataframe thead th {\n",
       "        text-align: right;\n",
       "    }\n",
       "</style>\n",
       "<table border=\"1\" class=\"dataframe\">\n",
       "  <thead>\n",
       "    <tr style=\"text-align: right;\">\n",
       "      <th></th>\n",
       "      <th>Time</th>\n",
       "      <th>V1</th>\n",
       "      <th>V2</th>\n",
       "      <th>V3</th>\n",
       "      <th>V4</th>\n",
       "      <th>V5</th>\n",
       "      <th>V6</th>\n",
       "      <th>V7</th>\n",
       "      <th>V8</th>\n",
       "      <th>V9</th>\n",
       "      <th>...</th>\n",
       "      <th>V21</th>\n",
       "      <th>V22</th>\n",
       "      <th>V23</th>\n",
       "      <th>V24</th>\n",
       "      <th>V25</th>\n",
       "      <th>V26</th>\n",
       "      <th>V27</th>\n",
       "      <th>V28</th>\n",
       "      <th>Amount</th>\n",
       "      <th>Class</th>\n",
       "    </tr>\n",
       "  </thead>\n",
       "  <tbody>\n",
       "    <tr>\n",
       "      <th>count</th>\n",
       "      <td>284807.000000</td>\n",
       "      <td>2.848070e+05</td>\n",
       "      <td>2.848070e+05</td>\n",
       "      <td>2.848070e+05</td>\n",
       "      <td>2.848070e+05</td>\n",
       "      <td>2.848070e+05</td>\n",
       "      <td>2.848070e+05</td>\n",
       "      <td>2.848070e+05</td>\n",
       "      <td>2.848070e+05</td>\n",
       "      <td>2.848070e+05</td>\n",
       "      <td>...</td>\n",
       "      <td>2.848070e+05</td>\n",
       "      <td>2.848070e+05</td>\n",
       "      <td>2.848070e+05</td>\n",
       "      <td>2.848070e+05</td>\n",
       "      <td>2.848070e+05</td>\n",
       "      <td>2.848070e+05</td>\n",
       "      <td>2.848070e+05</td>\n",
       "      <td>2.848070e+05</td>\n",
       "      <td>284807.000000</td>\n",
       "      <td>284807.000000</td>\n",
       "    </tr>\n",
       "    <tr>\n",
       "      <th>mean</th>\n",
       "      <td>94813.859575</td>\n",
       "      <td>3.918649e-15</td>\n",
       "      <td>5.682686e-16</td>\n",
       "      <td>-8.761736e-15</td>\n",
       "      <td>2.811118e-15</td>\n",
       "      <td>-1.552103e-15</td>\n",
       "      <td>2.040130e-15</td>\n",
       "      <td>-1.698953e-15</td>\n",
       "      <td>-1.893285e-16</td>\n",
       "      <td>-3.147640e-15</td>\n",
       "      <td>...</td>\n",
       "      <td>1.473120e-16</td>\n",
       "      <td>8.042109e-16</td>\n",
       "      <td>5.282512e-16</td>\n",
       "      <td>4.456271e-15</td>\n",
       "      <td>1.426896e-15</td>\n",
       "      <td>1.701640e-15</td>\n",
       "      <td>-3.662252e-16</td>\n",
       "      <td>-1.217809e-16</td>\n",
       "      <td>88.349619</td>\n",
       "      <td>0.001727</td>\n",
       "    </tr>\n",
       "    <tr>\n",
       "      <th>std</th>\n",
       "      <td>47488.145955</td>\n",
       "      <td>1.958696e+00</td>\n",
       "      <td>1.651309e+00</td>\n",
       "      <td>1.516255e+00</td>\n",
       "      <td>1.415869e+00</td>\n",
       "      <td>1.380247e+00</td>\n",
       "      <td>1.332271e+00</td>\n",
       "      <td>1.237094e+00</td>\n",
       "      <td>1.194353e+00</td>\n",
       "      <td>1.098632e+00</td>\n",
       "      <td>...</td>\n",
       "      <td>7.345240e-01</td>\n",
       "      <td>7.257016e-01</td>\n",
       "      <td>6.244603e-01</td>\n",
       "      <td>6.056471e-01</td>\n",
       "      <td>5.212781e-01</td>\n",
       "      <td>4.822270e-01</td>\n",
       "      <td>4.036325e-01</td>\n",
       "      <td>3.300833e-01</td>\n",
       "      <td>250.120109</td>\n",
       "      <td>0.041527</td>\n",
       "    </tr>\n",
       "    <tr>\n",
       "      <th>min</th>\n",
       "      <td>0.000000</td>\n",
       "      <td>-5.640751e+01</td>\n",
       "      <td>-7.271573e+01</td>\n",
       "      <td>-4.832559e+01</td>\n",
       "      <td>-5.683171e+00</td>\n",
       "      <td>-1.137433e+02</td>\n",
       "      <td>-2.616051e+01</td>\n",
       "      <td>-4.355724e+01</td>\n",
       "      <td>-7.321672e+01</td>\n",
       "      <td>-1.343407e+01</td>\n",
       "      <td>...</td>\n",
       "      <td>-3.483038e+01</td>\n",
       "      <td>-1.093314e+01</td>\n",
       "      <td>-4.480774e+01</td>\n",
       "      <td>-2.836627e+00</td>\n",
       "      <td>-1.029540e+01</td>\n",
       "      <td>-2.604551e+00</td>\n",
       "      <td>-2.256568e+01</td>\n",
       "      <td>-1.543008e+01</td>\n",
       "      <td>0.000000</td>\n",
       "      <td>0.000000</td>\n",
       "    </tr>\n",
       "    <tr>\n",
       "      <th>25%</th>\n",
       "      <td>54201.500000</td>\n",
       "      <td>-9.203734e-01</td>\n",
       "      <td>-5.985499e-01</td>\n",
       "      <td>-8.903648e-01</td>\n",
       "      <td>-8.486401e-01</td>\n",
       "      <td>-6.915971e-01</td>\n",
       "      <td>-7.682956e-01</td>\n",
       "      <td>-5.540759e-01</td>\n",
       "      <td>-2.086297e-01</td>\n",
       "      <td>-6.430976e-01</td>\n",
       "      <td>...</td>\n",
       "      <td>-2.283949e-01</td>\n",
       "      <td>-5.423504e-01</td>\n",
       "      <td>-1.618463e-01</td>\n",
       "      <td>-3.545861e-01</td>\n",
       "      <td>-3.171451e-01</td>\n",
       "      <td>-3.269839e-01</td>\n",
       "      <td>-7.083953e-02</td>\n",
       "      <td>-5.295979e-02</td>\n",
       "      <td>5.600000</td>\n",
       "      <td>0.000000</td>\n",
       "    </tr>\n",
       "    <tr>\n",
       "      <th>50%</th>\n",
       "      <td>84692.000000</td>\n",
       "      <td>1.810880e-02</td>\n",
       "      <td>6.548556e-02</td>\n",
       "      <td>1.798463e-01</td>\n",
       "      <td>-1.984653e-02</td>\n",
       "      <td>-5.433583e-02</td>\n",
       "      <td>-2.741871e-01</td>\n",
       "      <td>4.010308e-02</td>\n",
       "      <td>2.235804e-02</td>\n",
       "      <td>-5.142873e-02</td>\n",
       "      <td>...</td>\n",
       "      <td>-2.945017e-02</td>\n",
       "      <td>6.781943e-03</td>\n",
       "      <td>-1.119293e-02</td>\n",
       "      <td>4.097606e-02</td>\n",
       "      <td>1.659350e-02</td>\n",
       "      <td>-5.213911e-02</td>\n",
       "      <td>1.342146e-03</td>\n",
       "      <td>1.124383e-02</td>\n",
       "      <td>22.000000</td>\n",
       "      <td>0.000000</td>\n",
       "    </tr>\n",
       "    <tr>\n",
       "      <th>75%</th>\n",
       "      <td>139320.500000</td>\n",
       "      <td>1.315642e+00</td>\n",
       "      <td>8.037239e-01</td>\n",
       "      <td>1.027196e+00</td>\n",
       "      <td>7.433413e-01</td>\n",
       "      <td>6.119264e-01</td>\n",
       "      <td>3.985649e-01</td>\n",
       "      <td>5.704361e-01</td>\n",
       "      <td>3.273459e-01</td>\n",
       "      <td>5.971390e-01</td>\n",
       "      <td>...</td>\n",
       "      <td>1.863772e-01</td>\n",
       "      <td>5.285536e-01</td>\n",
       "      <td>1.476421e-01</td>\n",
       "      <td>4.395266e-01</td>\n",
       "      <td>3.507156e-01</td>\n",
       "      <td>2.409522e-01</td>\n",
       "      <td>9.104512e-02</td>\n",
       "      <td>7.827995e-02</td>\n",
       "      <td>77.165000</td>\n",
       "      <td>0.000000</td>\n",
       "    </tr>\n",
       "    <tr>\n",
       "      <th>max</th>\n",
       "      <td>172792.000000</td>\n",
       "      <td>2.454930e+00</td>\n",
       "      <td>2.205773e+01</td>\n",
       "      <td>9.382558e+00</td>\n",
       "      <td>1.687534e+01</td>\n",
       "      <td>3.480167e+01</td>\n",
       "      <td>7.330163e+01</td>\n",
       "      <td>1.205895e+02</td>\n",
       "      <td>2.000721e+01</td>\n",
       "      <td>1.559499e+01</td>\n",
       "      <td>...</td>\n",
       "      <td>2.720284e+01</td>\n",
       "      <td>1.050309e+01</td>\n",
       "      <td>2.252841e+01</td>\n",
       "      <td>4.584549e+00</td>\n",
       "      <td>7.519589e+00</td>\n",
       "      <td>3.517346e+00</td>\n",
       "      <td>3.161220e+01</td>\n",
       "      <td>3.384781e+01</td>\n",
       "      <td>25691.160000</td>\n",
       "      <td>1.000000</td>\n",
       "    </tr>\n",
       "  </tbody>\n",
       "</table>\n",
       "<p>8 rows × 31 columns</p>\n",
       "</div>"
      ],
      "text/plain": [
       "                Time            V1            V2            V3            V4  \\\n",
       "count  284807.000000  2.848070e+05  2.848070e+05  2.848070e+05  2.848070e+05   \n",
       "mean    94813.859575  3.918649e-15  5.682686e-16 -8.761736e-15  2.811118e-15   \n",
       "std     47488.145955  1.958696e+00  1.651309e+00  1.516255e+00  1.415869e+00   \n",
       "min         0.000000 -5.640751e+01 -7.271573e+01 -4.832559e+01 -5.683171e+00   \n",
       "25%     54201.500000 -9.203734e-01 -5.985499e-01 -8.903648e-01 -8.486401e-01   \n",
       "50%     84692.000000  1.810880e-02  6.548556e-02  1.798463e-01 -1.984653e-02   \n",
       "75%    139320.500000  1.315642e+00  8.037239e-01  1.027196e+00  7.433413e-01   \n",
       "max    172792.000000  2.454930e+00  2.205773e+01  9.382558e+00  1.687534e+01   \n",
       "\n",
       "                 V5            V6            V7            V8            V9  \\\n",
       "count  2.848070e+05  2.848070e+05  2.848070e+05  2.848070e+05  2.848070e+05   \n",
       "mean  -1.552103e-15  2.040130e-15 -1.698953e-15 -1.893285e-16 -3.147640e-15   \n",
       "std    1.380247e+00  1.332271e+00  1.237094e+00  1.194353e+00  1.098632e+00   \n",
       "min   -1.137433e+02 -2.616051e+01 -4.355724e+01 -7.321672e+01 -1.343407e+01   \n",
       "25%   -6.915971e-01 -7.682956e-01 -5.540759e-01 -2.086297e-01 -6.430976e-01   \n",
       "50%   -5.433583e-02 -2.741871e-01  4.010308e-02  2.235804e-02 -5.142873e-02   \n",
       "75%    6.119264e-01  3.985649e-01  5.704361e-01  3.273459e-01  5.971390e-01   \n",
       "max    3.480167e+01  7.330163e+01  1.205895e+02  2.000721e+01  1.559499e+01   \n",
       "\n",
       "       ...           V21           V22           V23           V24  \\\n",
       "count  ...  2.848070e+05  2.848070e+05  2.848070e+05  2.848070e+05   \n",
       "mean   ...  1.473120e-16  8.042109e-16  5.282512e-16  4.456271e-15   \n",
       "std    ...  7.345240e-01  7.257016e-01  6.244603e-01  6.056471e-01   \n",
       "min    ... -3.483038e+01 -1.093314e+01 -4.480774e+01 -2.836627e+00   \n",
       "25%    ... -2.283949e-01 -5.423504e-01 -1.618463e-01 -3.545861e-01   \n",
       "50%    ... -2.945017e-02  6.781943e-03 -1.119293e-02  4.097606e-02   \n",
       "75%    ...  1.863772e-01  5.285536e-01  1.476421e-01  4.395266e-01   \n",
       "max    ...  2.720284e+01  1.050309e+01  2.252841e+01  4.584549e+00   \n",
       "\n",
       "                V25           V26           V27           V28         Amount  \\\n",
       "count  2.848070e+05  2.848070e+05  2.848070e+05  2.848070e+05  284807.000000   \n",
       "mean   1.426896e-15  1.701640e-15 -3.662252e-16 -1.217809e-16      88.349619   \n",
       "std    5.212781e-01  4.822270e-01  4.036325e-01  3.300833e-01     250.120109   \n",
       "min   -1.029540e+01 -2.604551e+00 -2.256568e+01 -1.543008e+01       0.000000   \n",
       "25%   -3.171451e-01 -3.269839e-01 -7.083953e-02 -5.295979e-02       5.600000   \n",
       "50%    1.659350e-02 -5.213911e-02  1.342146e-03  1.124383e-02      22.000000   \n",
       "75%    3.507156e-01  2.409522e-01  9.104512e-02  7.827995e-02      77.165000   \n",
       "max    7.519589e+00  3.517346e+00  3.161220e+01  3.384781e+01   25691.160000   \n",
       "\n",
       "               Class  \n",
       "count  284807.000000  \n",
       "mean        0.001727  \n",
       "std         0.041527  \n",
       "min         0.000000  \n",
       "25%         0.000000  \n",
       "50%         0.000000  \n",
       "75%         0.000000  \n",
       "max         1.000000  \n",
       "\n",
       "[8 rows x 31 columns]"
      ]
     },
     "execution_count": 5,
     "metadata": {},
     "output_type": "execute_result"
    }
   ],
   "source": [
    "df.describe()"
   ]
  },
  {
   "cell_type": "code",
   "execution_count": 6,
   "metadata": {},
   "outputs": [],
   "source": [
    "df_x = df.drop('Class', axis=1)\n",
    "df_y = df['Class']"
   ]
  },
  {
   "cell_type": "code",
   "execution_count": 7,
   "metadata": {},
   "outputs": [
    {
     "data": {
      "image/png": "[encoded data removed]",
      "text/plain": [
       "<Figure size 1080x1080 with 30 Axes>"
      ]
     },
     "metadata": {
      "needs_background": "light"
     },
     "output_type": "display_data"
    }
   ],
   "source": [
    "import matplotlib.pyplot as plt\n",
    "\n",
    "df_x.hist(figsize=(15, 15))\n",
    "plt.show()"
   ]
  },
  {
   "cell_type": "code",
   "execution_count": 8,
   "metadata": {},
   "outputs": [
    {
     "data": {
      "image/png": "[encoded data removed]",
      "text/plain": [
       "<Figure size 432x288 with 1 Axes>"
      ]
     },
     "metadata": {
      "needs_background": "light"
     },
     "output_type": "display_data"
    }
   ],
   "source": [
    "df_y.hist()\n",
    "plt.show()"
   ]
  },
  {
   "cell_type": "code",
   "execution_count": 9,
   "metadata": {},
   "outputs": [
    {
     "name": "stdout",
     "output_type": "stream",
     "text": [
      "X.shape = (284807, 30)\n",
      "y.shape = (284807,)\n",
      "Negative examples = 284315\n",
      "Positive examples = 492\n"
     ]
    }
   ],
   "source": [
    "import numpy as np\n",
    "\n",
    "X = df.drop('Class', axis=1)\n",
    "y = df['Class']\n",
    "\n",
    "print('X.shape =', X.shape)\n",
    "print('y.shape =', y.shape)\n",
    "print('Negative examples =', np.count_nonzero(y == 0))\n",
    "print('Positive examples =', np.count_nonzero(y == 1))"
   ]
  },
  {
   "cell_type": "code",
   "execution_count": 10,
   "metadata": {},
   "outputs": [],
   "source": [
    "from sklearn.model_selection import train_test_split\n",
    "\n",
    "x_train, x_test, y_train, y_test = train_test_split(X, y, random_state=0, stratify=y)"
   ]
  },
  {
   "cell_type": "code",
   "execution_count": 11,
   "metadata": {},
   "outputs": [
    {
     "name": "stdout",
     "output_type": "stream",
     "text": [
      "x_train.shape = (213605, 30)\n",
      "x_test.shape = (71202, 30)\n",
      "y_train.shape = (213605,)\n",
      "y_test.shape = (71202,)\n"
     ]
    }
   ],
   "source": [
    "print('x_train.shape =', x_train.shape)\n",
    "print('x_test.shape =', x_test.shape)\n",
    "print('y_train.shape =', y_train.shape)\n",
    "print('y_test.shape =', y_test.shape)"
   ]
  },
  {
   "cell_type": "code",
   "execution_count": 12,
   "metadata": {},
   "outputs": [
    {
     "data": {
      "image/png": "[encoded data removed]",
      "text/plain": [
       "<Figure size 432x288 with 1 Axes>"
      ]
     },
     "metadata": {
      "needs_background": "light"
     },
     "output_type": "display_data"
    }
   ],
   "source": [
    "plt.hist((y_train, y_test), label=('Training set', 'Test set'), rwidth=0.8, log=True)\n",
    "plt.title('Histogram')\n",
    "plt.ylabel('Class')\n",
    "plt.legend()\n",
    "plt.show()"
   ]
  },
  {
   "cell_type": "markdown",
   "metadata": {},
   "source": [
    "## 2 Model evaluation"
   ]
  },
  {
   "cell_type": "code",
   "execution_count": 13,
   "metadata": {},
   "outputs": [],
   "source": [
    "from sklearn.model_selection import GridSearchCV\n",
    "from sklearn.metrics import accuracy_score, balanced_accuracy_score\n",
    "from sklearn.metrics import recall_score, precision_score, f1_score, fbeta_score\n",
    "from imblearn.metrics import geometric_mean_score\n",
    "from time import time\n",
    "import pickle\n",
    "\n",
    "all_results = []\n",
    "\n",
    "def get_params_str(params):\n",
    "    params_str = ''\n",
    "    for param, val in params.items():\n",
    "        if params_str != '':\n",
    "            params_str += ', '\n",
    "        params_str += param.split('__')[1]\n",
    "        params_str += ' = '\n",
    "        if isinstance(val, float):\n",
    "            params_str += '{:.4f}'.format(val)\n",
    "        else:\n",
    "            params_str += str(val)\n",
    "    return params_str\n",
    "\n",
    "def evaluate_model(model_name, pipeline, param_grid):\n",
    "    t0 = time()\n",
    "\n",
    "    search = GridSearchCV(pipeline, param_grid, n_jobs=-1,\n",
    "                          scoring=make_scorer(fbeta_score, beta=2), verbose=1)\n",
    "    search.fit(x_train, y_train)\n",
    "    \n",
    "    print('Best parameters:', search.best_params_)\n",
    "    print('Best score:', search.best_score_)\n",
    "    \n",
    "    y_pred = search.predict(x_test)\n",
    "    \n",
    "    results = [\n",
    "        ('Model', model_name),\n",
    "        ('Accuracy', accuracy_score(y_test, y_pred)),\n",
    "        ('Balanced Accuracy', balanced_accuracy_score(y_test, y_pred)),\n",
    "        ('Geometric Mean', geometric_mean_score(y_test, y_pred)),\n",
    "        ('Recall', recall_score(y_test, y_pred)),\n",
    "        ('Precision', precision_score(y_test, y_pred)),\n",
    "        ('F1', f1_score(y_test, y_pred)),\n",
    "        ('F2', fbeta_score(y_test, y_pred, beta=2)),\n",
    "    ]\n",
    "    \n",
    "    for label, val in results:\n",
    "        print(label + ':', val)\n",
    "    \n",
    "    print('t = {:.1f} min'.format((time() - t0)/60))\n",
    "    \n",
    "    all_results.append(results)\n",
    "    \n",
    "    filename = 'class_imbalance_' + model_name.replace(' ', '_') + '.pkl'\n",
    "    pickle.dump(search.best_estimator_, open(filename, 'wb'))"
   ]
  },
  {
   "cell_type": "markdown",
   "metadata": {},
   "source": [
    "### 2.1 Naive Approach - Random Forest"
   ]
  },
  {
   "cell_type": "code",
   "execution_count": 14,
   "metadata": {},
   "outputs": [
    {
     "name": "stdout",
     "output_type": "stream",
     "text": [
      "Fitting 5 folds for each of 33 candidates, totalling 165 fits\n",
      "Best parameters: {'rf__max_depth': 17, 'rf__n_estimators': 50}\n",
      "Best score: 0.823646024220839\n",
      "Model: Random Forest\n",
      "Accuracy: 0.9994663071262043\n",
      "Balanced Accuracy: 0.8698764926280926\n",
      "Geometric Mean: 0.8601017070047723\n",
      "Recall: 0.7398373983739838\n",
      "Precision: 0.9381443298969072\n",
      "F1: 0.8272727272727273\n",
      "F2: 0.7724957555178268\n",
      "t = 24.5 min\n"
     ]
    }
   ],
   "source": [
    "from sklearn.ensemble import RandomForestClassifier\n",
    "from sklearn.preprocessing import StandardScaler\n",
    "from sklearn.metrics import make_scorer\n",
    "from imblearn.pipeline import Pipeline\n",
    "\n",
    "pipeline = Pipeline([\n",
    "    ('sc', StandardScaler()),\n",
    "    ('rf', RandomForestClassifier(random_state=0, n_jobs=-1))\n",
    "])\n",
    "\n",
    "param_grid = {\n",
    "    'rf__n_estimators': (20, 50, 100),\n",
    "    'rf__max_depth': list(np.arange(3, 23, 2)) + [None],\n",
    "}\n",
    "\n",
    "evaluate_model('Random Forest', pipeline, param_grid)"
   ]
  },
  {
   "cell_type": "markdown",
   "metadata": {},
   "source": [
    "### 2.2 Over-sampling - SMOTE"
   ]
  },
  {
   "cell_type": "code",
   "execution_count": 15,
   "metadata": {},
   "outputs": [
    {
     "name": "stdout",
     "output_type": "stream",
     "text": [
      "Fitting 5 folds for each of 99 candidates, totalling 495 fits\n",
      "Best parameters: {'rf__max_depth': 21, 'rf__n_estimators': 100, 'sm__k_neighbors': 7}\n",
      "Best score: 0.831401617426075\n",
      "Model: SMOTE\n",
      "Accuracy: 0.9993679952810315\n",
      "Balanced Accuracy: 0.9104073138819431\n",
      "Geometric Mean: 0.9060201457520742\n",
      "Recall: 0.8211382113821138\n",
      "Precision: 0.8145161290322581\n",
      "F1: 0.8178137651821863\n",
      "F2: 0.819805194805195\n",
      "t = 134.5 min\n"
     ]
    }
   ],
   "source": [
    "from imblearn.over_sampling import SMOTE\n",
    "\n",
    "t0 = time()\n",
    "\n",
    "pipeline = Pipeline([\n",
    "    ('sc', StandardScaler()),\n",
    "    ('sm', SMOTE(random_state=0)),\n",
    "    ('rf', RandomForestClassifier(random_state=0, n_jobs=-1))\n",
    "])\n",
    "\n",
    "param_grid = {\n",
    "    'sm__k_neighbors': (3, 5, 7),\n",
    "    'rf__n_estimators': (20, 50, 100),\n",
    "    'rf__max_depth': list(np.arange(3, 23, 2)) + [None],\n",
    "}\n",
    "\n",
    "evaluate_model('SMOTE', pipeline, param_grid)"
   ]
  },
  {
   "cell_type": "markdown",
   "metadata": {},
   "source": [
    "### 2.3 Under-sampling - NearMiss-1"
   ]
  },
  {
   "cell_type": "code",
   "execution_count": 16,
   "metadata": {},
   "outputs": [
    {
     "name": "stdout",
     "output_type": "stream",
     "text": [
      "Fitting 5 folds for each of 99 candidates, totalling 495 fits\n",
      "Best parameters: {'nm__n_neighbors': 3, 'rf__max_depth': 3, 'rf__n_estimators': 20}\n",
      "Best score: 0.01246582647293817\n",
      "Model: NearMiss-1\n",
      "Accuracy: 0.2893879385410522\n",
      "Balanced Accuracy: 0.6197310858855434\n",
      "Geometric Mean: 0.5236239509759593\n",
      "Recall: 0.9512195121951219\n",
      "Precision: 0.0023073282322316007\n",
      "F1: 0.004603489996262124\n",
      "F2: 0.011425781250000003\n",
      "t = 2.8 min\n"
     ]
    }
   ],
   "source": [
    "from imblearn.under_sampling import NearMiss\n",
    "\n",
    "pipeline = Pipeline([\n",
    "    ('sc', StandardScaler()),\n",
    "    ('nm', NearMiss()),\n",
    "    ('rf', RandomForestClassifier(random_state=0, n_jobs=-2))\n",
    "])\n",
    "\n",
    "param_grid = {\n",
    "    'nm__n_neighbors': (3, 5, 7),\n",
    "    'rf__n_estimators': (20, 50, 100),\n",
    "    'rf__max_depth': list(np.arange(3, 23, 2)) + [None],\n",
    "}\n",
    "\n",
    "evaluate_model('NearMiss-1', pipeline, param_grid)"
   ]
  },
  {
   "cell_type": "markdown",
   "metadata": {},
   "source": [
    "### 2.4 Ensemble method - Balanced Random Forest"
   ]
  },
  {
   "cell_type": "code",
   "execution_count": 17,
   "metadata": {},
   "outputs": [
    {
     "name": "stdout",
     "output_type": "stream",
     "text": [
      "Fitting 5 folds for each of 66 candidates, totalling 330 fits\n",
      "Best parameters: {'brf__class_weight': 'balanced', 'brf__max_depth': 7, 'brf__n_estimators': 50}\n",
      "Best score: 0.8269586636863888\n",
      "Model: Balanced Random Forest\n",
      "Accuracy: 0.9992415943372377\n",
      "Balanced Accuracy: 0.9103440040435942\n",
      "Geometric Mean: 0.9059627653793286\n",
      "Recall: 0.8211382113821138\n",
      "Precision: 0.7593984962406015\n",
      "F1: 0.7890624999999999\n",
      "F2: 0.8079999999999999\n",
      "t = 31.7 min\n"
     ]
    }
   ],
   "source": [
    "pipeline = Pipeline([\n",
    "    ('scaler', StandardScaler()),\n",
    "    ('brf', RandomForestClassifier(random_state=0, n_jobs=-1))\n",
    "])\n",
    "\n",
    "param_grid = {\n",
    "    'brf__n_estimators': (20, 50, 100),\n",
    "    'brf__max_depth': list(np.arange(3, 23, 2)) + [None],\n",
    "    'brf__class_weight': ('balanced', 'balanced_subsample')\n",
    "}\n",
    "\n",
    "evaluate_model('Balanced Random Forest', pipeline, param_grid)"
   ]
  },
  {
   "cell_type": "markdown",
   "metadata": {},
   "source": [
    "## 3 Results"
   ]
  },
  {
   "cell_type": "code",
   "execution_count": 18,
   "metadata": {},
   "outputs": [
    {
     "data": {
      "text/html": [
       "<style  type=\"text/css\" >\n",
       "    #T_6cc48_ th {\n",
       "          text-align: left;\n",
       "    }#T_6cc48_row0_col0,#T_6cc48_row0_col1,#T_6cc48_row0_col2,#T_6cc48_row0_col3,#T_6cc48_row0_col4,#T_6cc48_row0_col5,#T_6cc48_row0_col6,#T_6cc48_row0_col7,#T_6cc48_row1_col0,#T_6cc48_row1_col1,#T_6cc48_row1_col2,#T_6cc48_row1_col3,#T_6cc48_row1_col4,#T_6cc48_row1_col5,#T_6cc48_row1_col6,#T_6cc48_row1_col7,#T_6cc48_row2_col0,#T_6cc48_row2_col1,#T_6cc48_row2_col2,#T_6cc48_row2_col3,#T_6cc48_row2_col4,#T_6cc48_row2_col5,#T_6cc48_row2_col6,#T_6cc48_row2_col7,#T_6cc48_row3_col0,#T_6cc48_row3_col1,#T_6cc48_row3_col2,#T_6cc48_row3_col3,#T_6cc48_row3_col4,#T_6cc48_row3_col5,#T_6cc48_row3_col6,#T_6cc48_row3_col7{\n",
       "            text-align:  left;\n",
       "        }</style><table id=\"T_6cc48_\" ><thead>    <tr>        <th class=\"col_heading level0 col0\" >Model</th>        <th class=\"col_heading level0 col1\" >Accuracy</th>        <th class=\"col_heading level0 col2\" >Balanced Accuracy</th>        <th class=\"col_heading level0 col3\" >Geometric Mean</th>        <th class=\"col_heading level0 col4\" >Recall</th>        <th class=\"col_heading level0 col5\" >Precision</th>        <th class=\"col_heading level0 col6\" >F1</th>        <th class=\"col_heading level0 col7\" >F2</th>    </tr></thead><tbody>\n",
       "                <tr>\n",
       "                                <td id=\"T_6cc48_row0_col0\" class=\"data row0 col0\" >Random Forest</td>\n",
       "                        <td id=\"T_6cc48_row0_col1\" class=\"data row0 col1\" >0.999466</td>\n",
       "                        <td id=\"T_6cc48_row0_col2\" class=\"data row0 col2\" >0.869876</td>\n",
       "                        <td id=\"T_6cc48_row0_col3\" class=\"data row0 col3\" >0.860102</td>\n",
       "                        <td id=\"T_6cc48_row0_col4\" class=\"data row0 col4\" >0.739837</td>\n",
       "                        <td id=\"T_6cc48_row0_col5\" class=\"data row0 col5\" >0.938144</td>\n",
       "                        <td id=\"T_6cc48_row0_col6\" class=\"data row0 col6\" >0.827273</td>\n",
       "                        <td id=\"T_6cc48_row0_col7\" class=\"data row0 col7\" >0.772496</td>\n",
       "            </tr>\n",
       "            <tr>\n",
       "                                <td id=\"T_6cc48_row1_col0\" class=\"data row1 col0\" >SMOTE</td>\n",
       "                        <td id=\"T_6cc48_row1_col1\" class=\"data row1 col1\" >0.999368</td>\n",
       "                        <td id=\"T_6cc48_row1_col2\" class=\"data row1 col2\" >0.910407</td>\n",
       "                        <td id=\"T_6cc48_row1_col3\" class=\"data row1 col3\" >0.906020</td>\n",
       "                        <td id=\"T_6cc48_row1_col4\" class=\"data row1 col4\" >0.821138</td>\n",
       "                        <td id=\"T_6cc48_row1_col5\" class=\"data row1 col5\" >0.814516</td>\n",
       "                        <td id=\"T_6cc48_row1_col6\" class=\"data row1 col6\" >0.817814</td>\n",
       "                        <td id=\"T_6cc48_row1_col7\" class=\"data row1 col7\" >0.819805</td>\n",
       "            </tr>\n",
       "            <tr>\n",
       "                                <td id=\"T_6cc48_row2_col0\" class=\"data row2 col0\" >NearMiss-1</td>\n",
       "                        <td id=\"T_6cc48_row2_col1\" class=\"data row2 col1\" >0.289388</td>\n",
       "                        <td id=\"T_6cc48_row2_col2\" class=\"data row2 col2\" >0.619731</td>\n",
       "                        <td id=\"T_6cc48_row2_col3\" class=\"data row2 col3\" >0.523624</td>\n",
       "                        <td id=\"T_6cc48_row2_col4\" class=\"data row2 col4\" >0.951220</td>\n",
       "                        <td id=\"T_6cc48_row2_col5\" class=\"data row2 col5\" >0.002307</td>\n",
       "                        <td id=\"T_6cc48_row2_col6\" class=\"data row2 col6\" >0.004603</td>\n",
       "                        <td id=\"T_6cc48_row2_col7\" class=\"data row2 col7\" >0.011426</td>\n",
       "            </tr>\n",
       "            <tr>\n",
       "                                <td id=\"T_6cc48_row3_col0\" class=\"data row3 col0\" >Balanced Random Forest</td>\n",
       "                        <td id=\"T_6cc48_row3_col1\" class=\"data row3 col1\" >0.999242</td>\n",
       "                        <td id=\"T_6cc48_row3_col2\" class=\"data row3 col2\" >0.910344</td>\n",
       "                        <td id=\"T_6cc48_row3_col3\" class=\"data row3 col3\" >0.905963</td>\n",
       "                        <td id=\"T_6cc48_row3_col4\" class=\"data row3 col4\" >0.821138</td>\n",
       "                        <td id=\"T_6cc48_row3_col5\" class=\"data row3 col5\" >0.759398</td>\n",
       "                        <td id=\"T_6cc48_row3_col6\" class=\"data row3 col6\" >0.789062</td>\n",
       "                        <td id=\"T_6cc48_row3_col7\" class=\"data row3 col7\" >0.808000</td>\n",
       "            </tr>\n",
       "    </tbody></table>"
      ],
      "text/plain": [
       "<pandas.io.formats.style.Styler at 0x162ea53d488>"
      ]
     },
     "execution_count": 18,
     "metadata": {},
     "output_type": "execute_result"
    }
   ],
   "source": [
    "df_columns = [x[0] for x in all_results[0]]\n",
    "df_data = [dict(x) for x in all_results]\n",
    "all_results_df = pd.DataFrame(df_data, columns=df_columns)\n",
    "all_results_df.to_excel('class_imbalance_results.xlsx')\n",
    "all_results_df = all_results_df.style.set_table_styles([dict(selector='th', props=[('text-align', 'left')])])\n",
    "all_results_df.set_properties(**{'text-align': 'left'}).hide_index()"
   ]
  },
  {
   "cell_type": "code",
   "execution_count": 19,
   "metadata": {},
   "outputs": [
    {
     "data": {
      "image/png": "[encoded data removed]",
      "text/plain": [
       "<Figure size 864x576 with 1 Axes>"
      ]
     },
     "metadata": {
      "needs_background": "light"
     },
     "output_type": "display_data"
    }
   ],
   "source": [
    "labels = [x[0][1] for x in all_results]\n",
    "x = np.arange(len(labels))\n",
    "width = 0.11\n",
    "\n",
    "fig, ax = plt.subplots()\n",
    "scores_len = len(all_results[0][1:])\n",
    "for i in range(scores_len):\n",
    "    score_label = all_results[0][i+1][0]\n",
    "    scores = [x[i+1][1] for x in all_results]\n",
    "    rects = ax.bar(x+(i-scores_len//2)*width, scores, width, label=score_label)\n",
    "\n",
    "ax.set_ylabel('Scores')\n",
    "ax.set_xticks(x)\n",
    "ax.set_xticklabels(labels)\n",
    "ax.legend(bbox_to_anchor=(1.01, 1), loc='upper left')\n",
    "\n",
    "fig.set_size_inches(12, 8)\n",
    "\n",
    "plt.show()"
   ]
  },
  {
   "cell_type": "code",
   "execution_count": null,
   "metadata": {},
   "outputs": [],
   "source": []
  }
 ],
 "metadata": {
  "kernelspec": {
   "display_name": "Python 3",
   "language": "python",
   "name": "python3"
  },
  "language_info": {
   "codemirror_mode": {
    "name": "ipython",
    "version": 3
   },
   "file_extension": ".py",
   "mimetype": "text/x-python",
   "name": "python",
   "nbconvert_exporter": "python",
   "pygments_lexer": "ipython3",
   "version": "3.7.9"
  }
 },
 "nbformat": 4,
 "nbformat_minor": 4
}
