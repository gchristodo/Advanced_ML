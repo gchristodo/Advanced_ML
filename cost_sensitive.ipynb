{
 "cells": [
  {
   "cell_type": "code",
   "execution_count": 1,
   "metadata": {},
   "outputs": [],
   "source": [
    "import numpy as np\n",
    "import pandas as pd\n",
    "import logging\n",
    "import pickle\n",
    "import matplotlib.pyplot as plt\n",
    "from time import time\n",
    "from sklearn.preprocessing import StandardScaler\n",
    "from sklearn.ensemble import RandomForestClassifier\n",
    "from sklearn.metrics import roc_auc_score\n",
    "from sklearn.model_selection import GridSearchCV, train_test_split\n",
    "from sklearn.pipeline import Pipeline, FeatureUnion\n",
    "from sklearn.decomposition import PCA\n",
    "from sklearn.feature_selection import SelectKBest\n",
    "from sklearn.linear_model import LogisticRegression\n",
    "# from imblearn.pipeline import Pipeline as Pipe"
   ]
  },
  {
   "cell_type": "code",
   "execution_count": 2,
   "metadata": {},
   "outputs": [
    {
     "data": {
      "text/html": [
       "<div>\n",
       "<style scoped>\n",
       "    .dataframe tbody tr th:only-of-type {\n",
       "        vertical-align: middle;\n",
       "    }\n",
       "\n",
       "    .dataframe tbody tr th {\n",
       "        vertical-align: top;\n",
       "    }\n",
       "\n",
       "    .dataframe thead th {\n",
       "        text-align: right;\n",
       "    }\n",
       "</style>\n",
       "<table border=\"1\" class=\"dataframe\">\n",
       "  <thead>\n",
       "    <tr style=\"text-align: right;\">\n",
       "      <th></th>\n",
       "      <th>Time</th>\n",
       "      <th>V1</th>\n",
       "      <th>V2</th>\n",
       "      <th>V3</th>\n",
       "      <th>V4</th>\n",
       "      <th>V5</th>\n",
       "      <th>V6</th>\n",
       "      <th>V7</th>\n",
       "      <th>V8</th>\n",
       "      <th>V9</th>\n",
       "      <th>...</th>\n",
       "      <th>V21</th>\n",
       "      <th>V22</th>\n",
       "      <th>V23</th>\n",
       "      <th>V24</th>\n",
       "      <th>V25</th>\n",
       "      <th>V26</th>\n",
       "      <th>V27</th>\n",
       "      <th>V28</th>\n",
       "      <th>Amount</th>\n",
       "      <th>Class</th>\n",
       "    </tr>\n",
       "  </thead>\n",
       "  <tbody>\n",
       "    <tr>\n",
       "      <th>241104</th>\n",
       "      <td>150884.0</td>\n",
       "      <td>1.792157</td>\n",
       "      <td>-0.094959</td>\n",
       "      <td>-1.962566</td>\n",
       "      <td>1.363191</td>\n",
       "      <td>0.419663</td>\n",
       "      <td>-1.377915</td>\n",
       "      <td>0.973810</td>\n",
       "      <td>-0.529120</td>\n",
       "      <td>-0.115885</td>\n",
       "      <td>...</td>\n",
       "      <td>0.207575</td>\n",
       "      <td>0.388849</td>\n",
       "      <td>-0.125439</td>\n",
       "      <td>-0.015856</td>\n",
       "      <td>0.395331</td>\n",
       "      <td>-0.494935</td>\n",
       "      <td>-0.057501</td>\n",
       "      <td>-0.040410</td>\n",
       "      <td>144.00</td>\n",
       "      <td>0</td>\n",
       "    </tr>\n",
       "    <tr>\n",
       "      <th>283120</th>\n",
       "      <td>171382.0</td>\n",
       "      <td>0.008018</td>\n",
       "      <td>0.800285</td>\n",
       "      <td>-1.718762</td>\n",
       "      <td>-1.570926</td>\n",
       "      <td>3.100557</td>\n",
       "      <td>3.225469</td>\n",
       "      <td>0.362243</td>\n",
       "      <td>0.882363</td>\n",
       "      <td>-0.094758</td>\n",
       "      <td>...</td>\n",
       "      <td>-0.316859</td>\n",
       "      <td>-0.906714</td>\n",
       "      <td>0.117253</td>\n",
       "      <td>0.592073</td>\n",
       "      <td>-0.435896</td>\n",
       "      <td>0.151121</td>\n",
       "      <td>0.108751</td>\n",
       "      <td>0.068515</td>\n",
       "      <td>2.97</td>\n",
       "      <td>0</td>\n",
       "    </tr>\n",
       "    <tr>\n",
       "      <th>100341</th>\n",
       "      <td>67485.0</td>\n",
       "      <td>1.343434</td>\n",
       "      <td>-1.209012</td>\n",
       "      <td>1.171484</td>\n",
       "      <td>-0.448716</td>\n",
       "      <td>-1.422045</td>\n",
       "      <td>1.132678</td>\n",
       "      <td>-1.758413</td>\n",
       "      <td>0.508892</td>\n",
       "      <td>0.999790</td>\n",
       "      <td>...</td>\n",
       "      <td>0.081868</td>\n",
       "      <td>0.574081</td>\n",
       "      <td>-0.165297</td>\n",
       "      <td>-0.891845</td>\n",
       "      <td>0.492919</td>\n",
       "      <td>0.051442</td>\n",
       "      <td>0.092295</td>\n",
       "      <td>0.009995</td>\n",
       "      <td>1.00</td>\n",
       "      <td>0</td>\n",
       "    </tr>\n",
       "    <tr>\n",
       "      <th>241636</th>\n",
       "      <td>151108.0</td>\n",
       "      <td>-0.408453</td>\n",
       "      <td>1.012431</td>\n",
       "      <td>-0.461966</td>\n",
       "      <td>-0.632573</td>\n",
       "      <td>0.950440</td>\n",
       "      <td>-0.611025</td>\n",
       "      <td>0.869306</td>\n",
       "      <td>-0.108494</td>\n",
       "      <td>-0.134830</td>\n",
       "      <td>...</td>\n",
       "      <td>-0.256491</td>\n",
       "      <td>-0.662153</td>\n",
       "      <td>0.242027</td>\n",
       "      <td>0.665976</td>\n",
       "      <td>-0.457507</td>\n",
       "      <td>0.054971</td>\n",
       "      <td>-0.157047</td>\n",
       "      <td>0.071566</td>\n",
       "      <td>8.13</td>\n",
       "      <td>0</td>\n",
       "    </tr>\n",
       "    <tr>\n",
       "      <th>17892</th>\n",
       "      <td>29008.0</td>\n",
       "      <td>-0.999558</td>\n",
       "      <td>-1.022561</td>\n",
       "      <td>2.011569</td>\n",
       "      <td>-0.685867</td>\n",
       "      <td>-2.599713</td>\n",
       "      <td>1.702756</td>\n",
       "      <td>1.879199</td>\n",
       "      <td>-0.531774</td>\n",
       "      <td>-0.722221</td>\n",
       "      <td>...</td>\n",
       "      <td>-0.042948</td>\n",
       "      <td>0.438317</td>\n",
       "      <td>-0.045252</td>\n",
       "      <td>0.059023</td>\n",
       "      <td>0.243930</td>\n",
       "      <td>-0.165120</td>\n",
       "      <td>-0.093542</td>\n",
       "      <td>-0.529790</td>\n",
       "      <td>545.94</td>\n",
       "      <td>0</td>\n",
       "    </tr>\n",
       "  </tbody>\n",
       "</table>\n",
       "<p>5 rows × 31 columns</p>\n",
       "</div>"
      ],
      "text/plain": [
       "            Time        V1        V2        V3        V4        V5        V6  \\\n",
       "241104  150884.0  1.792157 -0.094959 -1.962566  1.363191  0.419663 -1.377915   \n",
       "283120  171382.0  0.008018  0.800285 -1.718762 -1.570926  3.100557  3.225469   \n",
       "100341   67485.0  1.343434 -1.209012  1.171484 -0.448716 -1.422045  1.132678   \n",
       "241636  151108.0 -0.408453  1.012431 -0.461966 -0.632573  0.950440 -0.611025   \n",
       "17892    29008.0 -0.999558 -1.022561  2.011569 -0.685867 -2.599713  1.702756   \n",
       "\n",
       "              V7        V8        V9  ...       V21       V22       V23  \\\n",
       "241104  0.973810 -0.529120 -0.115885  ...  0.207575  0.388849 -0.125439   \n",
       "283120  0.362243  0.882363 -0.094758  ... -0.316859 -0.906714  0.117253   \n",
       "100341 -1.758413  0.508892  0.999790  ...  0.081868  0.574081 -0.165297   \n",
       "241636  0.869306 -0.108494 -0.134830  ... -0.256491 -0.662153  0.242027   \n",
       "17892   1.879199 -0.531774 -0.722221  ... -0.042948  0.438317 -0.045252   \n",
       "\n",
       "             V24       V25       V26       V27       V28  Amount  Class  \n",
       "241104 -0.015856  0.395331 -0.494935 -0.057501 -0.040410  144.00      0  \n",
       "283120  0.592073 -0.435896  0.151121  0.108751  0.068515    2.97      0  \n",
       "100341 -0.891845  0.492919  0.051442  0.092295  0.009995    1.00      0  \n",
       "241636  0.665976 -0.457507  0.054971 -0.157047  0.071566    8.13      0  \n",
       "17892   0.059023  0.243930 -0.165120 -0.093542 -0.529790  545.94      0  \n",
       "\n",
       "[5 rows x 31 columns]"
      ]
     },
     "execution_count": 2,
     "metadata": {},
     "output_type": "execute_result"
    }
   ],
   "source": [
    "df = pd.read_csv('creditcard.csv').sample(50000)\n",
    "df.head()"
   ]
  },
  {
   "cell_type": "code",
   "execution_count": 3,
   "metadata": {},
   "outputs": [
    {
     "data": {
      "text/html": [
       "<div>\n",
       "<style scoped>\n",
       "    .dataframe tbody tr th:only-of-type {\n",
       "        vertical-align: middle;\n",
       "    }\n",
       "\n",
       "    .dataframe tbody tr th {\n",
       "        vertical-align: top;\n",
       "    }\n",
       "\n",
       "    .dataframe thead th {\n",
       "        text-align: right;\n",
       "    }\n",
       "</style>\n",
       "<table border=\"1\" class=\"dataframe\">\n",
       "  <thead>\n",
       "    <tr style=\"text-align: right;\">\n",
       "      <th></th>\n",
       "      <th>Time</th>\n",
       "      <th>V1</th>\n",
       "      <th>V2</th>\n",
       "      <th>V3</th>\n",
       "      <th>V4</th>\n",
       "      <th>V5</th>\n",
       "      <th>V6</th>\n",
       "      <th>V7</th>\n",
       "      <th>V8</th>\n",
       "      <th>V9</th>\n",
       "      <th>...</th>\n",
       "      <th>V21</th>\n",
       "      <th>V22</th>\n",
       "      <th>V23</th>\n",
       "      <th>V24</th>\n",
       "      <th>V25</th>\n",
       "      <th>V26</th>\n",
       "      <th>V27</th>\n",
       "      <th>V28</th>\n",
       "      <th>Amount</th>\n",
       "      <th>Class</th>\n",
       "    </tr>\n",
       "  </thead>\n",
       "  <tbody>\n",
       "    <tr>\n",
       "      <th>count</th>\n",
       "      <td>50000.00000</td>\n",
       "      <td>50000.000000</td>\n",
       "      <td>50000.000000</td>\n",
       "      <td>50000.000000</td>\n",
       "      <td>50000.000000</td>\n",
       "      <td>50000.000000</td>\n",
       "      <td>50000.000000</td>\n",
       "      <td>50000.000000</td>\n",
       "      <td>50000.000000</td>\n",
       "      <td>50000.000000</td>\n",
       "      <td>...</td>\n",
       "      <td>50000.000000</td>\n",
       "      <td>50000.000000</td>\n",
       "      <td>50000.000000</td>\n",
       "      <td>50000.000000</td>\n",
       "      <td>50000.000000</td>\n",
       "      <td>50000.000000</td>\n",
       "      <td>50000.000000</td>\n",
       "      <td>50000.000000</td>\n",
       "      <td>50000.000000</td>\n",
       "      <td>50000.000000</td>\n",
       "    </tr>\n",
       "    <tr>\n",
       "      <th>mean</th>\n",
       "      <td>94954.17706</td>\n",
       "      <td>-0.010086</td>\n",
       "      <td>0.006985</td>\n",
       "      <td>-0.003299</td>\n",
       "      <td>0.003446</td>\n",
       "      <td>-0.003947</td>\n",
       "      <td>-0.004594</td>\n",
       "      <td>-0.011850</td>\n",
       "      <td>-0.000940</td>\n",
       "      <td>-0.002132</td>\n",
       "      <td>...</td>\n",
       "      <td>-0.004176</td>\n",
       "      <td>-0.002853</td>\n",
       "      <td>0.002874</td>\n",
       "      <td>-0.002041</td>\n",
       "      <td>0.000266</td>\n",
       "      <td>-0.003115</td>\n",
       "      <td>-0.000414</td>\n",
       "      <td>-0.000393</td>\n",
       "      <td>87.067203</td>\n",
       "      <td>0.002140</td>\n",
       "    </tr>\n",
       "    <tr>\n",
       "      <th>std</th>\n",
       "      <td>47443.39862</td>\n",
       "      <td>1.978498</td>\n",
       "      <td>1.653131</td>\n",
       "      <td>1.526541</td>\n",
       "      <td>1.421624</td>\n",
       "      <td>1.357999</td>\n",
       "      <td>1.322559</td>\n",
       "      <td>1.223800</td>\n",
       "      <td>1.263333</td>\n",
       "      <td>1.104728</td>\n",
       "      <td>...</td>\n",
       "      <td>0.765350</td>\n",
       "      <td>0.727799</td>\n",
       "      <td>0.586143</td>\n",
       "      <td>0.605701</td>\n",
       "      <td>0.517450</td>\n",
       "      <td>0.482184</td>\n",
       "      <td>0.391954</td>\n",
       "      <td>0.324199</td>\n",
       "      <td>238.775018</td>\n",
       "      <td>0.046211</td>\n",
       "    </tr>\n",
       "    <tr>\n",
       "      <th>min</th>\n",
       "      <td>2.00000</td>\n",
       "      <td>-35.698345</td>\n",
       "      <td>-42.172688</td>\n",
       "      <td>-32.454198</td>\n",
       "      <td>-5.401678</td>\n",
       "      <td>-23.236403</td>\n",
       "      <td>-21.929312</td>\n",
       "      <td>-43.557242</td>\n",
       "      <td>-73.216718</td>\n",
       "      <td>-13.320155</td>\n",
       "      <td>...</td>\n",
       "      <td>-34.830382</td>\n",
       "      <td>-8.887017</td>\n",
       "      <td>-26.751119</td>\n",
       "      <td>-2.836627</td>\n",
       "      <td>-7.495741</td>\n",
       "      <td>-2.241620</td>\n",
       "      <td>-9.544855</td>\n",
       "      <td>-8.478686</td>\n",
       "      <td>0.000000</td>\n",
       "      <td>0.000000</td>\n",
       "    </tr>\n",
       "    <tr>\n",
       "      <th>25%</th>\n",
       "      <td>54472.75000</td>\n",
       "      <td>-0.921317</td>\n",
       "      <td>-0.597221</td>\n",
       "      <td>-0.899501</td>\n",
       "      <td>-0.853005</td>\n",
       "      <td>-0.696626</td>\n",
       "      <td>-0.768206</td>\n",
       "      <td>-0.557821</td>\n",
       "      <td>-0.209032</td>\n",
       "      <td>-0.651480</td>\n",
       "      <td>...</td>\n",
       "      <td>-0.231245</td>\n",
       "      <td>-0.542364</td>\n",
       "      <td>-0.161564</td>\n",
       "      <td>-0.358604</td>\n",
       "      <td>-0.315829</td>\n",
       "      <td>-0.330267</td>\n",
       "      <td>-0.071384</td>\n",
       "      <td>-0.053957</td>\n",
       "      <td>5.780000</td>\n",
       "      <td>0.000000</td>\n",
       "    </tr>\n",
       "    <tr>\n",
       "      <th>50%</th>\n",
       "      <td>84818.50000</td>\n",
       "      <td>0.017246</td>\n",
       "      <td>0.062965</td>\n",
       "      <td>0.181160</td>\n",
       "      <td>-0.012243</td>\n",
       "      <td>-0.064681</td>\n",
       "      <td>-0.272160</td>\n",
       "      <td>0.038714</td>\n",
       "      <td>0.023614</td>\n",
       "      <td>-0.051649</td>\n",
       "      <td>...</td>\n",
       "      <td>-0.031319</td>\n",
       "      <td>0.004200</td>\n",
       "      <td>-0.011160</td>\n",
       "      <td>0.040223</td>\n",
       "      <td>0.014410</td>\n",
       "      <td>-0.057162</td>\n",
       "      <td>0.001077</td>\n",
       "      <td>0.010625</td>\n",
       "      <td>22.000000</td>\n",
       "      <td>0.000000</td>\n",
       "    </tr>\n",
       "    <tr>\n",
       "      <th>75%</th>\n",
       "      <td>139541.50000</td>\n",
       "      <td>1.316137</td>\n",
       "      <td>0.811710</td>\n",
       "      <td>1.032397</td>\n",
       "      <td>0.742926</td>\n",
       "      <td>0.605470</td>\n",
       "      <td>0.398703</td>\n",
       "      <td>0.561717</td>\n",
       "      <td>0.328180</td>\n",
       "      <td>0.601351</td>\n",
       "      <td>...</td>\n",
       "      <td>0.184040</td>\n",
       "      <td>0.525378</td>\n",
       "      <td>0.147605</td>\n",
       "      <td>0.438602</td>\n",
       "      <td>0.348539</td>\n",
       "      <td>0.234472</td>\n",
       "      <td>0.090624</td>\n",
       "      <td>0.078820</td>\n",
       "      <td>76.650000</td>\n",
       "      <td>0.000000</td>\n",
       "    </tr>\n",
       "    <tr>\n",
       "      <th>max</th>\n",
       "      <td>172778.00000</td>\n",
       "      <td>2.420346</td>\n",
       "      <td>22.057729</td>\n",
       "      <td>3.940337</td>\n",
       "      <td>12.114672</td>\n",
       "      <td>32.911462</td>\n",
       "      <td>16.614054</td>\n",
       "      <td>25.971058</td>\n",
       "      <td>18.748872</td>\n",
       "      <td>10.370658</td>\n",
       "      <td>...</td>\n",
       "      <td>27.202839</td>\n",
       "      <td>10.503090</td>\n",
       "      <td>16.722816</td>\n",
       "      <td>3.949245</td>\n",
       "      <td>4.381129</td>\n",
       "      <td>3.517346</td>\n",
       "      <td>10.135597</td>\n",
       "      <td>16.129609</td>\n",
       "      <td>12910.930000</td>\n",
       "      <td>1.000000</td>\n",
       "    </tr>\n",
       "  </tbody>\n",
       "</table>\n",
       "<p>8 rows × 31 columns</p>\n",
       "</div>"
      ],
      "text/plain": [
       "               Time            V1            V2            V3            V4  \\\n",
       "count   50000.00000  50000.000000  50000.000000  50000.000000  50000.000000   \n",
       "mean    94954.17706     -0.010086      0.006985     -0.003299      0.003446   \n",
       "std     47443.39862      1.978498      1.653131      1.526541      1.421624   \n",
       "min         2.00000    -35.698345    -42.172688    -32.454198     -5.401678   \n",
       "25%     54472.75000     -0.921317     -0.597221     -0.899501     -0.853005   \n",
       "50%     84818.50000      0.017246      0.062965      0.181160     -0.012243   \n",
       "75%    139541.50000      1.316137      0.811710      1.032397      0.742926   \n",
       "max    172778.00000      2.420346     22.057729      3.940337     12.114672   \n",
       "\n",
       "                 V5            V6            V7            V8            V9  \\\n",
       "count  50000.000000  50000.000000  50000.000000  50000.000000  50000.000000   \n",
       "mean      -0.003947     -0.004594     -0.011850     -0.000940     -0.002132   \n",
       "std        1.357999      1.322559      1.223800      1.263333      1.104728   \n",
       "min      -23.236403    -21.929312    -43.557242    -73.216718    -13.320155   \n",
       "25%       -0.696626     -0.768206     -0.557821     -0.209032     -0.651480   \n",
       "50%       -0.064681     -0.272160      0.038714      0.023614     -0.051649   \n",
       "75%        0.605470      0.398703      0.561717      0.328180      0.601351   \n",
       "max       32.911462     16.614054     25.971058     18.748872     10.370658   \n",
       "\n",
       "       ...           V21           V22           V23           V24  \\\n",
       "count  ...  50000.000000  50000.000000  50000.000000  50000.000000   \n",
       "mean   ...     -0.004176     -0.002853      0.002874     -0.002041   \n",
       "std    ...      0.765350      0.727799      0.586143      0.605701   \n",
       "min    ...    -34.830382     -8.887017    -26.751119     -2.836627   \n",
       "25%    ...     -0.231245     -0.542364     -0.161564     -0.358604   \n",
       "50%    ...     -0.031319      0.004200     -0.011160      0.040223   \n",
       "75%    ...      0.184040      0.525378      0.147605      0.438602   \n",
       "max    ...     27.202839     10.503090     16.722816      3.949245   \n",
       "\n",
       "                V25           V26           V27           V28        Amount  \\\n",
       "count  50000.000000  50000.000000  50000.000000  50000.000000  50000.000000   \n",
       "mean       0.000266     -0.003115     -0.000414     -0.000393     87.067203   \n",
       "std        0.517450      0.482184      0.391954      0.324199    238.775018   \n",
       "min       -7.495741     -2.241620     -9.544855     -8.478686      0.000000   \n",
       "25%       -0.315829     -0.330267     -0.071384     -0.053957      5.780000   \n",
       "50%        0.014410     -0.057162      0.001077      0.010625     22.000000   \n",
       "75%        0.348539      0.234472      0.090624      0.078820     76.650000   \n",
       "max        4.381129      3.517346     10.135597     16.129609  12910.930000   \n",
       "\n",
       "              Class  \n",
       "count  50000.000000  \n",
       "mean       0.002140  \n",
       "std        0.046211  \n",
       "min        0.000000  \n",
       "25%        0.000000  \n",
       "50%        0.000000  \n",
       "75%        0.000000  \n",
       "max        1.000000  \n",
       "\n",
       "[8 rows x 31 columns]"
      ]
     },
     "execution_count": 3,
     "metadata": {},
     "output_type": "execute_result"
    }
   ],
   "source": [
    "df.describe()"
   ]
  },
  {
   "cell_type": "code",
   "execution_count": 4,
   "metadata": {},
   "outputs": [
    {
     "data": {
      "text/plain": [
       "Time      False\n",
       "V1        False\n",
       "V2        False\n",
       "V3        False\n",
       "V4        False\n",
       "V5        False\n",
       "V6        False\n",
       "V7        False\n",
       "V8        False\n",
       "V9        False\n",
       "V10       False\n",
       "V11       False\n",
       "V12       False\n",
       "V13       False\n",
       "V14       False\n",
       "V15       False\n",
       "V16       False\n",
       "V17       False\n",
       "V18       False\n",
       "V19       False\n",
       "V20       False\n",
       "V21       False\n",
       "V22       False\n",
       "V23       False\n",
       "V24       False\n",
       "V25       False\n",
       "V26       False\n",
       "V27       False\n",
       "V28       False\n",
       "Amount    False\n",
       "Class     False\n",
       "dtype: bool"
      ]
     },
     "execution_count": 4,
     "metadata": {},
     "output_type": "execute_result"
    }
   ],
   "source": [
    "df.any().isnull()"
   ]
  },
  {
   "cell_type": "code",
   "execution_count": 5,
   "metadata": {},
   "outputs": [
    {
     "data": {
      "text/plain": [
       "0    49893\n",
       "1      107\n",
       "Name: Class, dtype: int64"
      ]
     },
     "execution_count": 5,
     "metadata": {},
     "output_type": "execute_result"
    }
   ],
   "source": [
    "df.Class.value_counts()"
   ]
  },
  {
   "cell_type": "code",
   "execution_count": 6,
   "metadata": {},
   "outputs": [
    {
     "data": {
      "text/plain": [
       "0    0.99786\n",
       "1    0.00214\n",
       "Name: Class, dtype: float64"
      ]
     },
     "execution_count": 6,
     "metadata": {},
     "output_type": "execute_result"
    }
   ],
   "source": [
    "df.Class.value_counts() / len(df)"
   ]
  },
  {
   "cell_type": "code",
   "execution_count": 7,
   "metadata": {},
   "outputs": [],
   "source": [
    "X = df.drop(columns='Class')\n",
    "y = df.Class"
   ]
  },
  {
   "cell_type": "code",
   "execution_count": 8,
   "metadata": {},
   "outputs": [
    {
     "data": {
      "text/plain": [
       "((35000, 30), (15000, 30), (35000,), (15000,))"
      ]
     },
     "execution_count": 8,
     "metadata": {},
     "output_type": "execute_result"
    }
   ],
   "source": [
    "X_train, X_test, y_train, y_test = train_test_split(\n",
    "    X,\n",
    "    y, \n",
    "    test_size=0.3,\n",
    "    random_state=0)\n",
    "\n",
    "X_train.shape, X_test.shape, y_train.shape, y_test.shape"
   ]
  },
  {
   "cell_type": "code",
   "execution_count": 9,
   "metadata": {},
   "outputs": [
    {
     "data": {
      "text/plain": [
       "0    34931\n",
       "1       69\n",
       "Name: Class, dtype: int64"
      ]
     },
     "execution_count": 9,
     "metadata": {},
     "output_type": "execute_result"
    }
   ],
   "source": [
    "y_train.value_counts()"
   ]
  },
  {
   "cell_type": "markdown",
   "metadata": {},
   "source": [
    "## Using class_weight"
   ]
  },
  {
   "cell_type": "code",
   "execution_count": 10,
   "metadata": {},
   "outputs": [],
   "source": [
    "def run_Logit(X_train, X_test, y_train, y_test, class_weight = None, sample_weight = None):\n",
    "    \n",
    "    # weights introduced here\n",
    "    logit = LogisticRegression(\n",
    "        penalty='l2',\n",
    "        solver='newton-cg',\n",
    "        random_state=69,\n",
    "        max_iter=10000,\n",
    "        n_jobs=-1,\n",
    "        class_weight=class_weight # weights / cost\n",
    "    )\n",
    "    \n",
    "    logit.fit(X_train, y_train, sample_weight=sample_weight)\n",
    "\n",
    "    print('Train set')\n",
    "    pred = logit.predict_proba(X_train)\n",
    "    print(\n",
    "        'Roc-Auc score: {}'.format(roc_auc_score(y_train, pred[:, 1])))\n",
    "\n",
    "    print('Test set')\n",
    "    pred = logit.predict_proba(X_test)\n",
    "    print(\n",
    "        'Roc-Auc score: {}'.format(roc_auc_score(y_test, pred[:, 1])))"
   ]
  },
  {
   "cell_type": "code",
   "execution_count": 11,
   "metadata": {},
   "outputs": [
    {
     "name": "stdout",
     "output_type": "stream",
     "text": [
      "Train set\n",
      "Roc-Auc score: 0.9847222619831477\n",
      "Test set\n",
      "Roc-Auc score: 0.9608692899204301\n"
     ]
    }
   ],
   "source": [
    "run_Logit(X_train,\n",
    "          X_test,\n",
    "          y_train,\n",
    "          y_test,\n",
    "          class_weight=None,\n",
    "          sample_weight=None)"
   ]
  },
  {
   "cell_type": "code",
   "execution_count": 12,
   "metadata": {},
   "outputs": [
    {
     "name": "stdout",
     "output_type": "stream",
     "text": [
      "Train set\n",
      "Roc-Auc score: 0.9931896795297064\n",
      "Test set\n",
      "Roc-Auc score: 0.9583013810425007\n"
     ]
    }
   ],
   "source": [
    "run_Logit(X_train,\n",
    "          X_test,\n",
    "          y_train,\n",
    "          y_test,\n",
    "          class_weight='balanced',\n",
    "          sample_weight=None)"
   ]
  },
  {
   "cell_type": "code",
   "execution_count": 13,
   "metadata": {},
   "outputs": [
    {
     "name": "stdout",
     "output_type": "stream",
     "text": [
      "Train set\n",
      "Roc-Auc score: 0.994214474166255\n",
      "Test set\n",
      "Roc-Auc score: 0.960081328840079\n"
     ]
    }
   ],
   "source": [
    "run_Logit(X_train,\n",
    "          X_test,\n",
    "          y_train,\n",
    "          y_test,\n",
    "          class_weight={0:1, 1:1000}, #imbalance ratio\n",
    "          sample_weight=None)"
   ]
  },
  {
   "cell_type": "markdown",
   "metadata": {},
   "source": [
    "## Using sample_weight"
   ]
  },
  {
   "cell_type": "code",
   "execution_count": 14,
   "metadata": {},
   "outputs": [
    {
     "name": "stdout",
     "output_type": "stream",
     "text": [
      "Train set\n",
      "Roc-Auc score: 0.9847222619831477\n",
      "Test set\n",
      "Roc-Auc score: 0.9608692899204301\n"
     ]
    }
   ],
   "source": [
    "run_Logit(X_train,\n",
    "          X_test,\n",
    "          y_train,\n",
    "          y_test,\n",
    "          class_weight=None,\n",
    "          sample_weight=None)"
   ]
  },
  {
   "cell_type": "code",
   "execution_count": 15,
   "metadata": {},
   "outputs": [
    {
     "name": "stdout",
     "output_type": "stream",
     "text": [
      "Train set\n",
      "Roc-Auc score: 0.9898669799965896\n",
      "Test set\n",
      "Roc-Auc score: 0.9537310308922955\n"
     ]
    }
   ],
   "source": [
    "run_Logit(X_train,\n",
    "          X_test,\n",
    "          y_train,\n",
    "          y_test,\n",
    "          class_weight=None,\n",
    "          sample_weight=np.where(y_train==1,100,1))"
   ]
  },
  {
   "cell_type": "markdown",
   "metadata": {},
   "source": [
    "## Estimating Cost with Cross Validation"
   ]
  },
  {
   "cell_type": "code",
   "execution_count": 16,
   "metadata": {},
   "outputs": [],
   "source": [
    "try:\n",
    "   grid_search = pickle.load( open( \"csl_grid.p\", \"rb\" ) )\n",
    "except:\n",
    "\n",
    "    logging.basicConfig(level=logging.INFO,\n",
    "                        format='%(asctime)s %(levelname)s %(message)s')\n",
    "\n",
    "    pca = PCA(n_components=8)\n",
    "\n",
    "    selection = SelectKBest(k=2)\n",
    "\n",
    "    combined_features = FeatureUnion([(\"pca\", pca), (\"univ_select\", selection)])\n",
    "\n",
    "    X_features = combined_features.fit(X, y).transform(X)\n",
    "    print(\"Combined space has\", X_features.shape[1], \"features\")\n",
    "\n",
    "    pipeline = Pipeline([('scale', StandardScaler()),(\"features\", combined_features), (\"clf\", RandomForestClassifier(random_state=69))])\n",
    "\n",
    "    parameters = {\n",
    "        'clf__n_estimators': [10, 50, 100],\n",
    "        'clf__max_depth': [2, 3],\n",
    "        'clf__class_weight': [None, {0:1, 1:10}, {0:1, 1:50}, {0:1, 1:100}, {0:1, 1:400}],\n",
    "    }\n",
    "    if __name__ == \"__main__\":\n",
    "        grid_search = GridSearchCV(pipeline, parameters,scoring='roc_auc', n_jobs=-1,cv=5,verbose=4)\n",
    "\n",
    "        print(\"Performing grid search...\")\n",
    "        print(\"pipeline:\", [name for name, _ in pipeline.steps])\n",
    "        t0 = time()\n",
    "        grid_search.fit(X, y)\n",
    "        print(\"done in %0.3fs\" % (time() - t0))\n",
    "        print()\n",
    "\n",
    "        print(\"Best score: %0.3f\" % grid_search.best_score_)\n",
    "        print(\"Best estimator: \", grid_search.best_estimator_)\n",
    "        pickle.dump( grid_search, open( \"csl_grid.p\", \"wb\" ) )"
   ]
  },
  {
   "cell_type": "code",
   "execution_count": 17,
   "metadata": {},
   "outputs": [
    {
     "data": {
      "text/html": [
       "<div>\n",
       "<style scoped>\n",
       "    .dataframe tbody tr th:only-of-type {\n",
       "        vertical-align: middle;\n",
       "    }\n",
       "\n",
       "    .dataframe tbody tr th {\n",
       "        vertical-align: top;\n",
       "    }\n",
       "\n",
       "    .dataframe thead th {\n",
       "        text-align: right;\n",
       "    }\n",
       "</style>\n",
       "<table border=\"1\" class=\"dataframe\">\n",
       "  <thead>\n",
       "    <tr style=\"text-align: right;\">\n",
       "      <th></th>\n",
       "      <th>mean_fit_time</th>\n",
       "      <th>std_fit_time</th>\n",
       "      <th>mean_score_time</th>\n",
       "      <th>std_score_time</th>\n",
       "      <th>param_clf__class_weight</th>\n",
       "      <th>param_clf__max_depth</th>\n",
       "      <th>param_clf__n_estimators</th>\n",
       "      <th>params</th>\n",
       "      <th>split0_test_score</th>\n",
       "      <th>split1_test_score</th>\n",
       "      <th>split2_test_score</th>\n",
       "      <th>split3_test_score</th>\n",
       "      <th>split4_test_score</th>\n",
       "      <th>mean_test_score</th>\n",
       "      <th>std_test_score</th>\n",
       "      <th>rank_test_score</th>\n",
       "    </tr>\n",
       "  </thead>\n",
       "  <tbody>\n",
       "    <tr>\n",
       "      <th>0</th>\n",
       "      <td>0.968152</td>\n",
       "      <td>0.022260</td>\n",
       "      <td>0.026172</td>\n",
       "      <td>0.004210</td>\n",
       "      <td>None</td>\n",
       "      <td>2</td>\n",
       "      <td>10</td>\n",
       "      <td>{'clf__class_weight': None, 'clf__max_depth': ...</td>\n",
       "      <td>0.948845</td>\n",
       "      <td>0.950370</td>\n",
       "      <td>0.951930</td>\n",
       "      <td>0.903922</td>\n",
       "      <td>0.879564</td>\n",
       "      <td>0.926926</td>\n",
       "      <td>0.029758</td>\n",
       "      <td>27</td>\n",
       "    </tr>\n",
       "    <tr>\n",
       "      <th>1</th>\n",
       "      <td>2.853076</td>\n",
       "      <td>0.074056</td>\n",
       "      <td>0.052380</td>\n",
       "      <td>0.003130</td>\n",
       "      <td>None</td>\n",
       "      <td>2</td>\n",
       "      <td>50</td>\n",
       "      <td>{'clf__class_weight': None, 'clf__max_depth': ...</td>\n",
       "      <td>0.921157</td>\n",
       "      <td>0.943858</td>\n",
       "      <td>0.950405</td>\n",
       "      <td>0.901732</td>\n",
       "      <td>0.894113</td>\n",
       "      <td>0.922253</td>\n",
       "      <td>0.022242</td>\n",
       "      <td>30</td>\n",
       "    </tr>\n",
       "    <tr>\n",
       "      <th>2</th>\n",
       "      <td>4.865098</td>\n",
       "      <td>0.046628</td>\n",
       "      <td>0.090981</td>\n",
       "      <td>0.000814</td>\n",
       "      <td>None</td>\n",
       "      <td>2</td>\n",
       "      <td>100</td>\n",
       "      <td>{'clf__class_weight': None, 'clf__max_depth': ...</td>\n",
       "      <td>0.943953</td>\n",
       "      <td>0.941916</td>\n",
       "      <td>0.969713</td>\n",
       "      <td>0.943591</td>\n",
       "      <td>0.874386</td>\n",
       "      <td>0.934712</td>\n",
       "      <td>0.031876</td>\n",
       "      <td>26</td>\n",
       "    </tr>\n",
       "    <tr>\n",
       "      <th>3</th>\n",
       "      <td>0.944487</td>\n",
       "      <td>0.021041</td>\n",
       "      <td>0.026308</td>\n",
       "      <td>0.005049</td>\n",
       "      <td>None</td>\n",
       "      <td>3</td>\n",
       "      <td>10</td>\n",
       "      <td>{'clf__class_weight': None, 'clf__max_depth': ...</td>\n",
       "      <td>0.931746</td>\n",
       "      <td>0.950353</td>\n",
       "      <td>0.951393</td>\n",
       "      <td>0.918088</td>\n",
       "      <td>0.878605</td>\n",
       "      <td>0.926037</td>\n",
       "      <td>0.026757</td>\n",
       "      <td>29</td>\n",
       "    </tr>\n",
       "    <tr>\n",
       "      <th>4</th>\n",
       "      <td>3.449157</td>\n",
       "      <td>0.047925</td>\n",
       "      <td>0.058418</td>\n",
       "      <td>0.003141</td>\n",
       "      <td>None</td>\n",
       "      <td>3</td>\n",
       "      <td>50</td>\n",
       "      <td>{'clf__class_weight': None, 'clf__max_depth': ...</td>\n",
       "      <td>0.948034</td>\n",
       "      <td>0.938953</td>\n",
       "      <td>0.984317</td>\n",
       "      <td>0.937762</td>\n",
       "      <td>0.866885</td>\n",
       "      <td>0.935190</td>\n",
       "      <td>0.038118</td>\n",
       "      <td>25</td>\n",
       "    </tr>\n",
       "  </tbody>\n",
       "</table>\n",
       "</div>"
      ],
      "text/plain": [
       "   mean_fit_time  std_fit_time  mean_score_time  std_score_time  \\\n",
       "0       0.968152      0.022260         0.026172        0.004210   \n",
       "1       2.853076      0.074056         0.052380        0.003130   \n",
       "2       4.865098      0.046628         0.090981        0.000814   \n",
       "3       0.944487      0.021041         0.026308        0.005049   \n",
       "4       3.449157      0.047925         0.058418        0.003141   \n",
       "\n",
       "  param_clf__class_weight param_clf__max_depth param_clf__n_estimators  \\\n",
       "0                    None                    2                      10   \n",
       "1                    None                    2                      50   \n",
       "2                    None                    2                     100   \n",
       "3                    None                    3                      10   \n",
       "4                    None                    3                      50   \n",
       "\n",
       "                                              params  split0_test_score  \\\n",
       "0  {'clf__class_weight': None, 'clf__max_depth': ...           0.948845   \n",
       "1  {'clf__class_weight': None, 'clf__max_depth': ...           0.921157   \n",
       "2  {'clf__class_weight': None, 'clf__max_depth': ...           0.943953   \n",
       "3  {'clf__class_weight': None, 'clf__max_depth': ...           0.931746   \n",
       "4  {'clf__class_weight': None, 'clf__max_depth': ...           0.948034   \n",
       "\n",
       "   split1_test_score  split2_test_score  split3_test_score  split4_test_score  \\\n",
       "0           0.950370           0.951930           0.903922           0.879564   \n",
       "1           0.943858           0.950405           0.901732           0.894113   \n",
       "2           0.941916           0.969713           0.943591           0.874386   \n",
       "3           0.950353           0.951393           0.918088           0.878605   \n",
       "4           0.938953           0.984317           0.937762           0.866885   \n",
       "\n",
       "   mean_test_score  std_test_score  rank_test_score  \n",
       "0         0.926926        0.029758               27  \n",
       "1         0.922253        0.022242               30  \n",
       "2         0.934712        0.031876               26  \n",
       "3         0.926037        0.026757               29  \n",
       "4         0.935190        0.038118               25  "
      ]
     },
     "execution_count": 17,
     "metadata": {},
     "output_type": "execute_result"
    }
   ],
   "source": [
    "df_ = pd.DataFrame(grid_search.cv_results_)\n",
    "df_.head()"
   ]
  },
  {
   "cell_type": "code",
   "execution_count": 18,
   "metadata": {},
   "outputs": [
    {
     "data": {
      "text/plain": [
       "{'clf__class_weight': {0: 1, 1: 50},\n",
       " 'clf__max_depth': 3,\n",
       " 'clf__n_estimators': 50}"
      ]
     },
     "execution_count": 18,
     "metadata": {},
     "output_type": "execute_result"
    }
   ],
   "source": [
    "grid_search.best_params_"
   ]
  },
  {
   "cell_type": "code",
   "execution_count": 19,
   "metadata": {},
   "outputs": [],
   "source": [
    "rf = RandomForestClassifier(n_estimators=50,\n",
    "                            random_state=69,\n",
    "                            max_depth=3,\n",
    "                            n_jobs=-1,\n",
    "                            class_weight=None)\n",
    "rf_cs = RandomForestClassifier(n_estimators=50,\n",
    "                            random_state=69,\n",
    "                            max_depth=3,\n",
    "                            n_jobs=-1,\n",
    "                            class_weight={0: 1, 1: 50})                            "
   ]
  },
  {
   "cell_type": "code",
   "execution_count": 20,
   "metadata": {},
   "outputs": [
    {
     "name": "stdout",
     "output_type": "stream",
     "text": [
      "0.9985333333333334 0.9989333333333333\n"
     ]
    }
   ],
   "source": [
    "rf.fit(X_train,y_train)\n",
    "rf_cs.fit(X_train,y_train)\n",
    "print(rf.score(X_test,y_test),rf_cs.score(X_test,y_test))"
   ]
  },
  {
   "cell_type": "markdown",
   "metadata": {},
   "source": [
    "## MetaCost"
   ]
  },
  {
   "cell_type": "code",
   "execution_count": 21,
   "metadata": {},
   "outputs": [],
   "source": [
    "from metacost import MetaCost"
   ]
  },
  {
   "cell_type": "code",
   "execution_count": 22,
   "metadata": {},
   "outputs": [],
   "source": [
    "cost_matrix = np.array([[0, 1], [1, 0]])\n",
    "cost_matrix2 = np.array([[0, 50], [1, 0]])"
   ]
  },
  {
   "cell_type": "code",
   "execution_count": 23,
   "metadata": {},
   "outputs": [],
   "source": [
    "\n",
    "logreg = LogisticRegression(\n",
    "    penalty='l2',\n",
    "    solver='newton-cg',\n",
    "    random_state=69,\n",
    "    max_iter=10000,\n",
    "    n_jobs=-1,\n",
    ")"
   ]
  },
  {
   "cell_type": "code",
   "execution_count": 24,
   "metadata": {},
   "outputs": [],
   "source": [
    "metacost_ = MetaCost(estimator=logreg,\n",
    "                     cost_matrix=cost_matrix,\n",
    "                     n_estimators=50,\n",
    "                     n_samples=None,\n",
    "                     p=True,\n",
    "                     q=True)\n",
    "metacost2 = MetaCost(estimator=logreg,\n",
    "                     cost_matrix=cost_matrix2,\n",
    "                     n_estimators=50,\n",
    "                     n_samples=None,\n",
    "                     p=True,\n",
    "                     q=True)                                     "
   ]
  },
  {
   "cell_type": "code",
   "execution_count": 25,
   "metadata": {},
   "outputs": [],
   "source": [
    "try:\n",
    "   metacost_ = pickle.load( open( \"meta_1.p\", \"rb\" ) )\n",
    "except:\n",
    "    metacost_.fit(X_train, y_train)\n",
    "    pickle.dump( metacost_, open( \"meta_1.p\", \"wb\" ) )"
   ]
  },
  {
   "cell_type": "code",
   "execution_count": 26,
   "metadata": {},
   "outputs": [
    {
     "name": "stdout",
     "output_type": "stream",
     "text": [
      "Without Costs\n",
      "Train set\n",
      "MetaCost roc-auc: 0.9451830295667775\n",
      "Test set\n",
      "MetaCost roc-auc: 0.9517145188864421\n"
     ]
    }
   ],
   "source": [
    "print('Without Costs')\n",
    "print('Train set')\n",
    "pred = metacost_.predict_proba(X_train)\n",
    "print(\n",
    "    'MetaCost roc-auc: {}'.format(roc_auc_score(y_train, pred[:, 1])))\n",
    "\n",
    "print('Test set')\n",
    "pred = metacost_.predict_proba(X_test)\n",
    "print(\n",
    "    'MetaCost roc-auc: {}'.format(roc_auc_score(y_test, pred[:, 1])))"
   ]
  },
  {
   "cell_type": "code",
   "execution_count": 27,
   "metadata": {},
   "outputs": [],
   "source": [
    "try:\n",
    "   metacost2 = pickle.load( open( \"meta_2.p\", \"rb\" ) )\n",
    "except:\n",
    "    metacost2.fit(X_train, y_train)\n",
    "    pickle.dump( metacost2, open( \"meta_2.p\", \"wb\" ) )"
   ]
  },
  {
   "cell_type": "code",
   "execution_count": 28,
   "metadata": {},
   "outputs": [
    {
     "name": "stdout",
     "output_type": "stream",
     "text": [
      "With Costs\n",
      "Train set\n",
      "MetaCost roc-auc: 0.9673530301351858\n",
      "Test set\n",
      "MetaCost roc-auc: 0.973641118904734\n"
     ]
    }
   ],
   "source": [
    "print('With Costs')\n",
    "print('Train set')\n",
    "pred = metacost2.predict_proba(X_train)\n",
    "print(\n",
    "    'MetaCost roc-auc: {}'.format(roc_auc_score(y_train, pred[:, 1])))\n",
    "\n",
    "print('Test set')\n",
    "pred = metacost2.predict_proba(X_test)\n",
    "print(\n",
    "    'MetaCost roc-auc: {}'.format(roc_auc_score(y_test, pred[:, 1])))"
   ]
  },
  {
   "cell_type": "code",
   "execution_count": 29,
   "metadata": {},
   "outputs": [
    {
     "data": {
      "text/plain": [
       "0        0\n",
       "1        0\n",
       "2        0\n",
       "3        0\n",
       "4        0\n",
       "        ..\n",
       "34995    0\n",
       "34996    0\n",
       "34997    0\n",
       "34998    0\n",
       "34999    0\n",
       "Name: Class, Length: 35000, dtype: int64"
      ]
     },
     "execution_count": 29,
     "metadata": {},
     "output_type": "execute_result"
    }
   ],
   "source": [
    "y_train.reset_index(drop=True)"
   ]
  },
  {
   "cell_type": "code",
   "execution_count": 30,
   "metadata": {},
   "outputs": [
    {
     "data": {
      "text/html": [
       "<div>\n",
       "<style scoped>\n",
       "    .dataframe tbody tr th:only-of-type {\n",
       "        vertical-align: middle;\n",
       "    }\n",
       "\n",
       "    .dataframe tbody tr th {\n",
       "        vertical-align: top;\n",
       "    }\n",
       "\n",
       "    .dataframe thead th {\n",
       "        text-align: right;\n",
       "    }\n",
       "</style>\n",
       "<table border=\"1\" class=\"dataframe\">\n",
       "  <thead>\n",
       "    <tr style=\"text-align: right;\">\n",
       "      <th></th>\n",
       "      <th>0</th>\n",
       "      <th>Class</th>\n",
       "    </tr>\n",
       "  </thead>\n",
       "  <tbody>\n",
       "    <tr>\n",
       "      <th>0</th>\n",
       "      <td>0</td>\n",
       "      <td>0</td>\n",
       "    </tr>\n",
       "    <tr>\n",
       "      <th>1</th>\n",
       "      <td>0</td>\n",
       "      <td>0</td>\n",
       "    </tr>\n",
       "    <tr>\n",
       "      <th>2</th>\n",
       "      <td>0</td>\n",
       "      <td>0</td>\n",
       "    </tr>\n",
       "    <tr>\n",
       "      <th>3</th>\n",
       "      <td>0</td>\n",
       "      <td>0</td>\n",
       "    </tr>\n",
       "    <tr>\n",
       "      <th>4</th>\n",
       "      <td>0</td>\n",
       "      <td>0</td>\n",
       "    </tr>\n",
       "  </tbody>\n",
       "</table>\n",
       "</div>"
      ],
      "text/plain": [
       "   0  Class\n",
       "0  0      0\n",
       "1  0      0\n",
       "2  0      0\n",
       "3  0      0\n",
       "4  0      0"
      ]
     },
     "execution_count": 30,
     "metadata": {},
     "output_type": "execute_result"
    }
   ],
   "source": [
    "tmp = pd.concat([metacost2.y_, y_train.reset_index(drop=True)], axis=1)\n",
    "\n",
    "tmp.head()"
   ]
  },
  {
   "cell_type": "code",
   "execution_count": 31,
   "metadata": {},
   "outputs": [
    {
     "data": {
      "text/html": [
       "<div>\n",
       "<style scoped>\n",
       "    .dataframe tbody tr th:only-of-type {\n",
       "        vertical-align: middle;\n",
       "    }\n",
       "\n",
       "    .dataframe tbody tr th {\n",
       "        vertical-align: top;\n",
       "    }\n",
       "\n",
       "    .dataframe thead th {\n",
       "        text-align: right;\n",
       "    }\n",
       "</style>\n",
       "<table border=\"1\" class=\"dataframe\">\n",
       "  <thead>\n",
       "    <tr style=\"text-align: right;\">\n",
       "      <th></th>\n",
       "      <th>Class</th>\n",
       "      <th>0</th>\n",
       "    </tr>\n",
       "  </thead>\n",
       "  <tbody>\n",
       "    <tr>\n",
       "      <th>15</th>\n",
       "      <td>0</td>\n",
       "      <td>1</td>\n",
       "    </tr>\n",
       "    <tr>\n",
       "      <th>259</th>\n",
       "      <td>0</td>\n",
       "      <td>1</td>\n",
       "    </tr>\n",
       "    <tr>\n",
       "      <th>510</th>\n",
       "      <td>1</td>\n",
       "      <td>0</td>\n",
       "    </tr>\n",
       "    <tr>\n",
       "      <th>528</th>\n",
       "      <td>1</td>\n",
       "      <td>0</td>\n",
       "    </tr>\n",
       "    <tr>\n",
       "      <th>532</th>\n",
       "      <td>1</td>\n",
       "      <td>0</td>\n",
       "    </tr>\n",
       "    <tr>\n",
       "      <th>...</th>\n",
       "      <td>...</td>\n",
       "      <td>...</td>\n",
       "    </tr>\n",
       "    <tr>\n",
       "      <th>34372</th>\n",
       "      <td>0</td>\n",
       "      <td>1</td>\n",
       "    </tr>\n",
       "    <tr>\n",
       "      <th>34584</th>\n",
       "      <td>1</td>\n",
       "      <td>0</td>\n",
       "    </tr>\n",
       "    <tr>\n",
       "      <th>34654</th>\n",
       "      <td>0</td>\n",
       "      <td>1</td>\n",
       "    </tr>\n",
       "    <tr>\n",
       "      <th>34976</th>\n",
       "      <td>0</td>\n",
       "      <td>1</td>\n",
       "    </tr>\n",
       "    <tr>\n",
       "      <th>34989</th>\n",
       "      <td>0</td>\n",
       "      <td>1</td>\n",
       "    </tr>\n",
       "  </tbody>\n",
       "</table>\n",
       "<p>227 rows × 2 columns</p>\n",
       "</div>"
      ],
      "text/plain": [
       "       Class  0\n",
       "15         0  1\n",
       "259        0  1\n",
       "510        1  0\n",
       "528        1  0\n",
       "532        1  0\n",
       "...      ... ..\n",
       "34372      0  1\n",
       "34584      1  0\n",
       "34654      0  1\n",
       "34976      0  1\n",
       "34989      0  1\n",
       "\n",
       "[227 rows x 2 columns]"
      ]
     },
     "execution_count": 31,
     "metadata": {},
     "output_type": "execute_result"
    }
   ],
   "source": [
    "tmp[tmp[0]!=tmp['Class']][['Class', 0]]"
   ]
  },
  {
   "cell_type": "code",
   "execution_count": 32,
   "metadata": {},
   "outputs": [
    {
     "data": {
      "text/plain": [
       "227"
      ]
     },
     "execution_count": 32,
     "metadata": {},
     "output_type": "execute_result"
    }
   ],
   "source": [
    "np.sum( np.where(metacost2.y_ != y_train.reset_index(drop=True),1,0) )"
   ]
  },
  {
   "cell_type": "code",
   "execution_count": 33,
   "metadata": {},
   "outputs": [
    {
     "data": {
      "text/plain": [
       "34773"
      ]
     },
     "execution_count": 33,
     "metadata": {},
     "output_type": "execute_result"
    }
   ],
   "source": [
    "np.sum( np.where(metacost2.y_ == y_train.reset_index(drop=True),1,0) )"
   ]
  }
 ],
 "metadata": {
  "kernelspec": {
   "display_name": "Python 3.8.3 64-bit ('magda': virtualenv)",
   "language": "python",
   "name": "python38364bitmagdavirtualenv79a972163be5483998828aa516d295bc"
  },
  "language_info": {
   "codemirror_mode": {
    "name": "ipython",
    "version": 3
   },
   "file_extension": ".py",
   "mimetype": "text/x-python",
   "name": "python",
   "nbconvert_exporter": "python",
   "pygments_lexer": "ipython3",
   "version": "3.8.3"
  },
  "metadata": {
   "interpreter": {
    "hash": "0e1830e4caa3d6e0129103774c7f97a3a89ead0b5173bc46cccfce4fbc399a41"
   }
  }
 },
 "nbformat": 4,
 "nbformat_minor": 2
}
